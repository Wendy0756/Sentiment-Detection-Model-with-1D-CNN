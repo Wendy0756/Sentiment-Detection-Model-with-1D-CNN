{
  "cells": [
    {
      "cell_type": "markdown",
      "source": [
        "# Final Project: Emotion Analysis on 1.6 million tweets"
      ],
      "metadata": {
        "id": "U47Ydin54nOy"
      },
      "id": "U47Ydin54nOy"
    },
    {
      "cell_type": "markdown",
      "source": [
        "### <span style=\"color:chocolate\"> Motivation </span>\n",
        "\n",
        "\n",
        "*   The model can be used for personalized content recommendations, such as advertisements, public postings, and interactions.\n",
        "*   The model can be used for tracking people's attitude towards certain social events.\n",
        "\n",
        "\n",
        "\n"
      ],
      "metadata": {
        "id": "U0rT3ewQ4vtn"
      },
      "id": "U0rT3ewQ4vtn"
    },
    {
      "cell_type": "markdown",
      "source": [
        "### <span style=\"color:chocolate\"> Data Source </span>\n",
        "\n",
        "We would perform sentiment analysis with 1,600,000 tweets extracted from twitter. It contains the following 6 fields:\n",
        "\n",
        "\n",
        "*   **target**: the polarity of the tweet (0 = negative, 2 = neutral, 4 = positive)\n",
        "*   **ids**: The id of the tweet ( 2087)\n",
        "*   **date**: the date of the tweet (Sat May 16 23:58:44 UTC 2009)\n",
        "*   **flag**: The query (lyx). If there is no query, then this value is NO_QUERY.\n",
        "\n",
        "*   **user**: the user that tweeted (robotickilldozr)\n",
        "\n",
        "*   **text**: the text of the tweet (Lyx is cool)\n",
        "\n",
        "According to the creators of the dataset:\n",
        "\n",
        "\"Our approach was unique because our training data was automatically created, as opposed to having humans manual annotate tweets. In our approach, we assume that any tweet with positive emoticons, like :), were positive, and tweets with negative emoticons, like :(, were negative. We used the Twitter Search API to collect these tweets by using keyword search\"\n",
        "\n",
        "The original dataset is from Kaggle: https://www.kaggle.com/datasets/kazanova/sentiment140"
      ],
      "metadata": {
        "id": "_qqJtv0h4qgU"
      },
      "id": "_qqJtv0h4qgU"
    },
    {
      "cell_type": "markdown",
      "source": [
        "---\n",
        "### Import Libraries and load data:"
      ],
      "metadata": {
        "id": "ibgNvyIM41t3"
      },
      "id": "ibgNvyIM41t3"
    },
    {
      "cell_type": "code",
      "execution_count": 47,
      "id": "168fdc78-acd5-4658-92fc-20b0ed2939f3",
      "metadata": {
        "id": "168fdc78-acd5-4658-92fc-20b0ed2939f3"
      },
      "outputs": [],
      "source": [
        "import pandas as pd\n",
        "import numpy as np\n",
        "from sklearn.model_selection import train_test_split\n",
        "from sklearn.metrics import roc_curve, auc, ConfusionMatrixDisplay\n",
        "import tensorflow as tf\n",
        "from tensorflow.keras.preprocessing.text import Tokenizer\n",
        "from tensorflow.keras.preprocessing.sequence import pad_sequences\n",
        "from tensorflow.keras.models import Sequential\n",
        "from tensorflow.keras.layers import Dense, Flatten, Embedding, Dropout, Conv1D, MaxPooling1D\n",
        "from tensorflow.keras.utils import to_categorical\n",
        "import matplotlib.pyplot as plt\n",
        "import seaborn as sns\n"
      ]
    },
    {
      "cell_type": "code",
      "execution_count": 2,
      "id": "4jANB_myxghD",
      "metadata": {
        "colab": {
          "base_uri": "https://localhost:8080/"
        },
        "id": "4jANB_myxghD",
        "outputId": "5b79f3f0-6cff-47ef-e87e-7c689086ff45"
      },
      "outputs": [
        {
          "output_type": "stream",
          "name": "stdout",
          "text": [
            "Mounted at /content/drive\n"
          ]
        }
      ],
      "source": [
        "from google.colab import drive\n",
        "drive.mount('/content/drive')\n"
      ]
    },
    {
      "cell_type": "code",
      "execution_count": 3,
      "id": "ead9478c-cdfd-4592-b5dd-f915c982f060",
      "metadata": {
        "id": "ead9478c-cdfd-4592-b5dd-f915c982f060",
        "colab": {
          "base_uri": "https://localhost:8080/"
        },
        "outputId": "a045375a-b409-419c-d003-1ff79bc0e1f8"
      },
      "outputs": [
        {
          "output_type": "stream",
          "name": "stdout",
          "text": [
            "(40000, 6)\n"
          ]
        }
      ],
      "source": [
        "# Load dataset\n",
        "file_path = '/content/drive/MyDrive/Colab Notebooks/Final_Project/tweets.csv'\n",
        "\n",
        "# Load the CSV file\n",
        "df_full = pd.read_csv(file_path, encoding='latin1', header=None)\n",
        "df = df_full.sample(frac=0.025, random_state=1)\n",
        "print(df.shape)"
      ]
    },
    {
      "cell_type": "code",
      "execution_count": 4,
      "id": "30a469d0-70e8-4c13-baab-11c578fa21a4",
      "metadata": {
        "id": "30a469d0-70e8-4c13-baab-11c578fa21a4",
        "colab": {
          "base_uri": "https://localhost:8080/",
          "height": 206
        },
        "outputId": "bdf5085f-40b5-479e-a076-aa74337356f3"
      },
      "outputs": [
        {
          "output_type": "execute_result",
          "data": {
            "text/plain": [
              "        target         ids                          date      flag  \\\n",
              "514293       0  2190584004  Tue Jun 16 03:08:48 PDT 2009  NO_QUERY   \n",
              "142282       0  1881451988  Fri May 22 04:42:15 PDT 2009  NO_QUERY   \n",
              "403727       0  2058252964  Sat Jun 06 14:34:17 PDT 2009  NO_QUERY   \n",
              "649503       0  2237307600  Fri Jun 19 05:34:22 PDT 2009  NO_QUERY   \n",
              "610789       0  2224301193  Thu Jun 18 09:20:06 PDT 2009  NO_QUERY   \n",
              "\n",
              "               user                                               text  \\\n",
              "514293    Vicki_Gee  i miss nikki nu nu already  shes always there ...   \n",
              "142282    PatCashin  So I had a dream last night. I  remember a sig...   \n",
              "403727  deelectable  @girlyghost ohh poor sickly you   (((hugs)) ho...   \n",
              "649503  justinekepa                               it is raining again    \n",
              "610789     cmatt007          @MissKeriBaby wish I was in LA right now    \n",
              "\n",
              "       sentiment  \n",
              "514293  negative  \n",
              "142282  negative  \n",
              "403727  negative  \n",
              "649503  negative  \n",
              "610789  negative  "
            ],
            "text/html": [
              "\n",
              "  <div id=\"df-07e525f6-5f68-4a74-b64d-edd3a20722cf\" class=\"colab-df-container\">\n",
              "    <div>\n",
              "<style scoped>\n",
              "    .dataframe tbody tr th:only-of-type {\n",
              "        vertical-align: middle;\n",
              "    }\n",
              "\n",
              "    .dataframe tbody tr th {\n",
              "        vertical-align: top;\n",
              "    }\n",
              "\n",
              "    .dataframe thead th {\n",
              "        text-align: right;\n",
              "    }\n",
              "</style>\n",
              "<table border=\"1\" class=\"dataframe\">\n",
              "  <thead>\n",
              "    <tr style=\"text-align: right;\">\n",
              "      <th></th>\n",
              "      <th>target</th>\n",
              "      <th>ids</th>\n",
              "      <th>date</th>\n",
              "      <th>flag</th>\n",
              "      <th>user</th>\n",
              "      <th>text</th>\n",
              "      <th>sentiment</th>\n",
              "    </tr>\n",
              "  </thead>\n",
              "  <tbody>\n",
              "    <tr>\n",
              "      <th>514293</th>\n",
              "      <td>0</td>\n",
              "      <td>2190584004</td>\n",
              "      <td>Tue Jun 16 03:08:48 PDT 2009</td>\n",
              "      <td>NO_QUERY</td>\n",
              "      <td>Vicki_Gee</td>\n",
              "      <td>i miss nikki nu nu already  shes always there ...</td>\n",
              "      <td>negative</td>\n",
              "    </tr>\n",
              "    <tr>\n",
              "      <th>142282</th>\n",
              "      <td>0</td>\n",
              "      <td>1881451988</td>\n",
              "      <td>Fri May 22 04:42:15 PDT 2009</td>\n",
              "      <td>NO_QUERY</td>\n",
              "      <td>PatCashin</td>\n",
              "      <td>So I had a dream last night. I  remember a sig...</td>\n",
              "      <td>negative</td>\n",
              "    </tr>\n",
              "    <tr>\n",
              "      <th>403727</th>\n",
              "      <td>0</td>\n",
              "      <td>2058252964</td>\n",
              "      <td>Sat Jun 06 14:34:17 PDT 2009</td>\n",
              "      <td>NO_QUERY</td>\n",
              "      <td>deelectable</td>\n",
              "      <td>@girlyghost ohh poor sickly you   (((hugs)) ho...</td>\n",
              "      <td>negative</td>\n",
              "    </tr>\n",
              "    <tr>\n",
              "      <th>649503</th>\n",
              "      <td>0</td>\n",
              "      <td>2237307600</td>\n",
              "      <td>Fri Jun 19 05:34:22 PDT 2009</td>\n",
              "      <td>NO_QUERY</td>\n",
              "      <td>justinekepa</td>\n",
              "      <td>it is raining again</td>\n",
              "      <td>negative</td>\n",
              "    </tr>\n",
              "    <tr>\n",
              "      <th>610789</th>\n",
              "      <td>0</td>\n",
              "      <td>2224301193</td>\n",
              "      <td>Thu Jun 18 09:20:06 PDT 2009</td>\n",
              "      <td>NO_QUERY</td>\n",
              "      <td>cmatt007</td>\n",
              "      <td>@MissKeriBaby wish I was in LA right now</td>\n",
              "      <td>negative</td>\n",
              "    </tr>\n",
              "  </tbody>\n",
              "</table>\n",
              "</div>\n",
              "    <div class=\"colab-df-buttons\">\n",
              "\n",
              "  <div class=\"colab-df-container\">\n",
              "    <button class=\"colab-df-convert\" onclick=\"convertToInteractive('df-07e525f6-5f68-4a74-b64d-edd3a20722cf')\"\n",
              "            title=\"Convert this dataframe to an interactive table.\"\n",
              "            style=\"display:none;\">\n",
              "\n",
              "  <svg xmlns=\"http://www.w3.org/2000/svg\" height=\"24px\" viewBox=\"0 -960 960 960\">\n",
              "    <path d=\"M120-120v-720h720v720H120Zm60-500h600v-160H180v160Zm220 220h160v-160H400v160Zm0 220h160v-160H400v160ZM180-400h160v-160H180v160Zm440 0h160v-160H620v160ZM180-180h160v-160H180v160Zm440 0h160v-160H620v160Z\"/>\n",
              "  </svg>\n",
              "    </button>\n",
              "\n",
              "  <style>\n",
              "    .colab-df-container {\n",
              "      display:flex;\n",
              "      gap: 12px;\n",
              "    }\n",
              "\n",
              "    .colab-df-convert {\n",
              "      background-color: #E8F0FE;\n",
              "      border: none;\n",
              "      border-radius: 50%;\n",
              "      cursor: pointer;\n",
              "      display: none;\n",
              "      fill: #1967D2;\n",
              "      height: 32px;\n",
              "      padding: 0 0 0 0;\n",
              "      width: 32px;\n",
              "    }\n",
              "\n",
              "    .colab-df-convert:hover {\n",
              "      background-color: #E2EBFA;\n",
              "      box-shadow: 0px 1px 2px rgba(60, 64, 67, 0.3), 0px 1px 3px 1px rgba(60, 64, 67, 0.15);\n",
              "      fill: #174EA6;\n",
              "    }\n",
              "\n",
              "    .colab-df-buttons div {\n",
              "      margin-bottom: 4px;\n",
              "    }\n",
              "\n",
              "    [theme=dark] .colab-df-convert {\n",
              "      background-color: #3B4455;\n",
              "      fill: #D2E3FC;\n",
              "    }\n",
              "\n",
              "    [theme=dark] .colab-df-convert:hover {\n",
              "      background-color: #434B5C;\n",
              "      box-shadow: 0px 1px 3px 1px rgba(0, 0, 0, 0.15);\n",
              "      filter: drop-shadow(0px 1px 2px rgba(0, 0, 0, 0.3));\n",
              "      fill: #FFFFFF;\n",
              "    }\n",
              "  </style>\n",
              "\n",
              "    <script>\n",
              "      const buttonEl =\n",
              "        document.querySelector('#df-07e525f6-5f68-4a74-b64d-edd3a20722cf button.colab-df-convert');\n",
              "      buttonEl.style.display =\n",
              "        google.colab.kernel.accessAllowed ? 'block' : 'none';\n",
              "\n",
              "      async function convertToInteractive(key) {\n",
              "        const element = document.querySelector('#df-07e525f6-5f68-4a74-b64d-edd3a20722cf');\n",
              "        const dataTable =\n",
              "          await google.colab.kernel.invokeFunction('convertToInteractive',\n",
              "                                                    [key], {});\n",
              "        if (!dataTable) return;\n",
              "\n",
              "        const docLinkHtml = 'Like what you see? Visit the ' +\n",
              "          '<a target=\"_blank\" href=https://colab.research.google.com/notebooks/data_table.ipynb>data table notebook</a>'\n",
              "          + ' to learn more about interactive tables.';\n",
              "        element.innerHTML = '';\n",
              "        dataTable['output_type'] = 'display_data';\n",
              "        await google.colab.output.renderOutput(dataTable, element);\n",
              "        const docLink = document.createElement('div');\n",
              "        docLink.innerHTML = docLinkHtml;\n",
              "        element.appendChild(docLink);\n",
              "      }\n",
              "    </script>\n",
              "  </div>\n",
              "\n",
              "\n",
              "<div id=\"df-4952113c-6f82-4370-84db-279f09d65798\">\n",
              "  <button class=\"colab-df-quickchart\" onclick=\"quickchart('df-4952113c-6f82-4370-84db-279f09d65798')\"\n",
              "            title=\"Suggest charts\"\n",
              "            style=\"display:none;\">\n",
              "\n",
              "<svg xmlns=\"http://www.w3.org/2000/svg\" height=\"24px\"viewBox=\"0 0 24 24\"\n",
              "     width=\"24px\">\n",
              "    <g>\n",
              "        <path d=\"M19 3H5c-1.1 0-2 .9-2 2v14c0 1.1.9 2 2 2h14c1.1 0 2-.9 2-2V5c0-1.1-.9-2-2-2zM9 17H7v-7h2v7zm4 0h-2V7h2v10zm4 0h-2v-4h2v4z\"/>\n",
              "    </g>\n",
              "</svg>\n",
              "  </button>\n",
              "\n",
              "<style>\n",
              "  .colab-df-quickchart {\n",
              "      --bg-color: #E8F0FE;\n",
              "      --fill-color: #1967D2;\n",
              "      --hover-bg-color: #E2EBFA;\n",
              "      --hover-fill-color: #174EA6;\n",
              "      --disabled-fill-color: #AAA;\n",
              "      --disabled-bg-color: #DDD;\n",
              "  }\n",
              "\n",
              "  [theme=dark] .colab-df-quickchart {\n",
              "      --bg-color: #3B4455;\n",
              "      --fill-color: #D2E3FC;\n",
              "      --hover-bg-color: #434B5C;\n",
              "      --hover-fill-color: #FFFFFF;\n",
              "      --disabled-bg-color: #3B4455;\n",
              "      --disabled-fill-color: #666;\n",
              "  }\n",
              "\n",
              "  .colab-df-quickchart {\n",
              "    background-color: var(--bg-color);\n",
              "    border: none;\n",
              "    border-radius: 50%;\n",
              "    cursor: pointer;\n",
              "    display: none;\n",
              "    fill: var(--fill-color);\n",
              "    height: 32px;\n",
              "    padding: 0;\n",
              "    width: 32px;\n",
              "  }\n",
              "\n",
              "  .colab-df-quickchart:hover {\n",
              "    background-color: var(--hover-bg-color);\n",
              "    box-shadow: 0 1px 2px rgba(60, 64, 67, 0.3), 0 1px 3px 1px rgba(60, 64, 67, 0.15);\n",
              "    fill: var(--button-hover-fill-color);\n",
              "  }\n",
              "\n",
              "  .colab-df-quickchart-complete:disabled,\n",
              "  .colab-df-quickchart-complete:disabled:hover {\n",
              "    background-color: var(--disabled-bg-color);\n",
              "    fill: var(--disabled-fill-color);\n",
              "    box-shadow: none;\n",
              "  }\n",
              "\n",
              "  .colab-df-spinner {\n",
              "    border: 2px solid var(--fill-color);\n",
              "    border-color: transparent;\n",
              "    border-bottom-color: var(--fill-color);\n",
              "    animation:\n",
              "      spin 1s steps(1) infinite;\n",
              "  }\n",
              "\n",
              "  @keyframes spin {\n",
              "    0% {\n",
              "      border-color: transparent;\n",
              "      border-bottom-color: var(--fill-color);\n",
              "      border-left-color: var(--fill-color);\n",
              "    }\n",
              "    20% {\n",
              "      border-color: transparent;\n",
              "      border-left-color: var(--fill-color);\n",
              "      border-top-color: var(--fill-color);\n",
              "    }\n",
              "    30% {\n",
              "      border-color: transparent;\n",
              "      border-left-color: var(--fill-color);\n",
              "      border-top-color: var(--fill-color);\n",
              "      border-right-color: var(--fill-color);\n",
              "    }\n",
              "    40% {\n",
              "      border-color: transparent;\n",
              "      border-right-color: var(--fill-color);\n",
              "      border-top-color: var(--fill-color);\n",
              "    }\n",
              "    60% {\n",
              "      border-color: transparent;\n",
              "      border-right-color: var(--fill-color);\n",
              "    }\n",
              "    80% {\n",
              "      border-color: transparent;\n",
              "      border-right-color: var(--fill-color);\n",
              "      border-bottom-color: var(--fill-color);\n",
              "    }\n",
              "    90% {\n",
              "      border-color: transparent;\n",
              "      border-bottom-color: var(--fill-color);\n",
              "    }\n",
              "  }\n",
              "</style>\n",
              "\n",
              "  <script>\n",
              "    async function quickchart(key) {\n",
              "      const quickchartButtonEl =\n",
              "        document.querySelector('#' + key + ' button');\n",
              "      quickchartButtonEl.disabled = true;  // To prevent multiple clicks.\n",
              "      quickchartButtonEl.classList.add('colab-df-spinner');\n",
              "      try {\n",
              "        const charts = await google.colab.kernel.invokeFunction(\n",
              "            'suggestCharts', [key], {});\n",
              "      } catch (error) {\n",
              "        console.error('Error during call to suggestCharts:', error);\n",
              "      }\n",
              "      quickchartButtonEl.classList.remove('colab-df-spinner');\n",
              "      quickchartButtonEl.classList.add('colab-df-quickchart-complete');\n",
              "    }\n",
              "    (() => {\n",
              "      let quickchartButtonEl =\n",
              "        document.querySelector('#df-4952113c-6f82-4370-84db-279f09d65798 button');\n",
              "      quickchartButtonEl.style.display =\n",
              "        google.colab.kernel.accessAllowed ? 'block' : 'none';\n",
              "    })();\n",
              "  </script>\n",
              "</div>\n",
              "\n",
              "    </div>\n",
              "  </div>\n"
            ],
            "application/vnd.google.colaboratory.intrinsic+json": {
              "type": "dataframe",
              "variable_name": "df",
              "repr_error": "0"
            }
          },
          "metadata": {},
          "execution_count": 4
        }
      ],
      "source": [
        "# Assign column names\n",
        "df.columns = ['target', 'ids', 'date', 'flag', 'user', 'text']\n",
        "sentiment_map = {0: \"negative\", 2: \"neutral\", 4: \"positive\"}\n",
        "def convert_label(x):\n",
        "  return sentiment_map[x]\n",
        "df['sentiment'] = df['target'].apply(convert_label)\n",
        "df.head()"
      ]
    },
    {
      "cell_type": "code",
      "execution_count": 5,
      "id": "dac2ba1e-266d-4941-aa11-0fa79e7866d0",
      "metadata": {
        "colab": {
          "base_uri": "https://localhost:8080/"
        },
        "id": "dac2ba1e-266d-4941-aa11-0fa79e7866d0",
        "outputId": "0a4e824d-973d-41a6-cc6b-7d8294de1513"
      },
      "outputs": [
        {
          "output_type": "stream",
          "name": "stdout",
          "text": [
            "Target value counts:\n",
            " target\n",
            "4    20047\n",
            "0    19953\n",
            "Name: count, dtype: int64\n"
          ]
        }
      ],
      "source": [
        "# Check different values of the target variable and count each one\n",
        "target_counts = df['target'].value_counts()\n",
        "print(\"Target value counts:\\n\", target_counts)"
      ]
    },
    {
      "cell_type": "code",
      "execution_count": 6,
      "id": "a16c3f09-155e-40c6-b076-c0469cc25161",
      "metadata": {
        "colab": {
          "base_uri": "https://localhost:8080/"
        },
        "id": "a16c3f09-155e-40c6-b076-c0469cc25161",
        "outputId": "7b2fe1c2-a32c-461c-b6b0-e864cc555b56"
      },
      "outputs": [
        {
          "output_type": "stream",
          "name": "stdout",
          "text": [
            "target       0\n",
            "ids          0\n",
            "date         0\n",
            "flag         0\n",
            "user         0\n",
            "text         0\n",
            "sentiment    0\n",
            "dtype: int64\n"
          ]
        }
      ],
      "source": [
        "#Check for missing values\n",
        "print(df.isnull().sum())"
      ]
    },
    {
      "cell_type": "markdown",
      "source": [
        "### 🔦Exploratory Data Analysis"
      ],
      "metadata": {
        "id": "vAXKJ3Mrk3PJ"
      },
      "id": "vAXKJ3Mrk3PJ"
    },
    {
      "cell_type": "code",
      "execution_count": 7,
      "id": "373e0f3b-768b-41ce-baf6-da162ea30045",
      "metadata": {
        "colab": {
          "base_uri": "https://localhost:8080/",
          "height": 410
        },
        "id": "373e0f3b-768b-41ce-baf6-da162ea30045",
        "outputId": "5986ca5c-b91e-4cae-e1e6-62de10928d46"
      },
      "outputs": [
        {
          "output_type": "display_data",
          "data": {
            "text/plain": [
              "<Figure size 400x400 with 1 Axes>"
            ],
            "image/png": "[encoded data removed]"
          },
          "metadata": {}
        }
      ],
      "source": [
        "#Plotting of sentiment distribution - not necessary at all since it is 50/50\n",
        "plt.figure(figsize=(4,4))\n",
        "ax = sns.countplot(x='sentiment', data=df)\n",
        "plt.title('Distribution of Sentiment Classes')\n",
        "plt.xlabel('Sentiment')\n",
        "plt.ylabel('Count')\n",
        "\n",
        "# Calculate the percentages and annotate each bar\n",
        "total = len(df)\n",
        "for p in ax.patches:\n",
        "    percentage = f'{100 * p.get_height() / total:.1f}%'\n",
        "    x = p.get_x() + p.get_width() / 2 - 0.05\n",
        "    y = p.get_height()\n",
        "    ax.annotate(percentage, (x, y), ha='center')\n",
        "\n",
        "plt.show()"
      ]
    },
    {
      "cell_type": "markdown",
      "id": "gApJibNgJ8PJ",
      "metadata": {
        "id": "gApJibNgJ8PJ"
      },
      "source": [
        "Plot of the tweet lengths distribution - Based on the plot, 100 will be a reasonable cut."
      ]
    },
    {
      "cell_type": "code",
      "execution_count": 8,
      "id": "ExZiy61RKDkO",
      "metadata": {
        "colab": {
          "base_uri": "https://localhost:8080/"
        },
        "id": "ExZiy61RKDkO",
        "outputId": "dbbcf8e5-4736-4184-9723-53dd4105f446"
      },
      "outputs": [
        {
          "output_type": "stream",
          "name": "stdout",
          "text": [
            "Positive review length: minimum: 8, maximum: 220, mean: 73.60398064548312\n",
            "Negative review length: minimum: 6, maximum: 201, mean: 73.97098180724703\n"
          ]
        }
      ],
      "source": [
        "tweets = df['text']\n",
        "labels = df['target']\n",
        "\n",
        "positive = []\n",
        "negative = []\n",
        "\n",
        "for x,y in zip(tweets, labels):\n",
        "  if y == 4:\n",
        "    positive.append(len(x))\n",
        "  elif y == 0:\n",
        "    negative.append(len(x))\n",
        "print(f'Positive review length: minimum: {min(positive)}, maximum: {max(positive)}, mean: {np.array(positive).mean()}')\n",
        "print(f'Negative review length: minimum: {min(negative)}, maximum: {max(negative)}, mean: {np.array(negative).mean()}')"
      ]
    },
    {
      "cell_type": "code",
      "execution_count": 9,
      "id": "5N8_MknbKMf6",
      "metadata": {
        "colab": {
          "base_uri": "https://localhost:8080/",
          "height": 472
        },
        "id": "5N8_MknbKMf6",
        "outputId": "114e9dc8-9550-4eda-ecb4-fe1068613d29"
      },
      "outputs": [
        {
          "output_type": "display_data",
          "data": {
            "text/plain": [
              "<Figure size 640x480 with 1 Axes>"
            ],
            "image/png": "[encoded data removed]"
          },
          "metadata": {}
        }
      ],
      "source": [
        "plt.hist(negative, bins = 50, label='Negative', color='coral', ec='coral', alpha=0.5)\n",
        "plt.hist(positive, bins = 50, label='Positive', color=\"skyblue\", ec='skyblue', alpha=0.5)\n",
        "plt.xlabel('review_length')\n",
        "plt.ylabel('counts')\n",
        "plt.title('Distribution of Positive and Negative Review Lengths')\n",
        "plt.legend(loc=\"upper right\")\n",
        "plt.show()"
      ]
    },
    {
      "cell_type": "code",
      "source": [],
      "metadata": {
        "id": "DCYdyA8piHxP"
      },
      "id": "DCYdyA8piHxP",
      "execution_count": 9,
      "outputs": []
    },
    {
      "cell_type": "markdown",
      "id": "fdd82be1-92ce-4c89-ac6f-081be7f469cf",
      "metadata": {
        "id": "fdd82be1-92ce-4c89-ac6f-081be7f469cf"
      },
      "source": [
        "### ✂️Data Preprocessing"
      ]
    },
    {
      "cell_type": "code",
      "execution_count": 10,
      "id": "27ef19d8-cd99-4899-adad-8e2e46997441",
      "metadata": {
        "id": "27ef19d8-cd99-4899-adad-8e2e46997441"
      },
      "outputs": [],
      "source": [
        "# Preprocess the text data\n",
        "df['text'] = df['text'].apply(lambda x: x.lower())\n",
        "df['text'] = df['text'].str.replace(r'http\\S+', '', regex=True)  # Remove URLs\n",
        "df['text'] = df['text'].str.replace(r'@\\w+', '', regex=True)     # Remove mentions\n",
        "df['text'] = df['text'].str.replace(r'#\\w+', '', regex=True)     # Remove hashtags\n",
        "df['text'] = df['text'].str.replace(r'[^a-zA-Z\\s]', '', regex=True)  # Remove special characters"
      ]
    },
    {
      "cell_type": "code",
      "execution_count": 11,
      "id": "29063bfa-27d7-46dc-abc6-f0997026629c",
      "metadata": {
        "colab": {
          "base_uri": "https://localhost:8080/",
          "height": 206
        },
        "id": "29063bfa-27d7-46dc-abc6-f0997026629c",
        "outputId": "46108503-ad28-4e2f-ddf7-9bc1c90edc06"
      },
      "outputs": [
        {
          "output_type": "execute_result",
          "data": {
            "text/plain": [
              "        target         ids                          date      flag  \\\n",
              "514293       0  2190584004  Tue Jun 16 03:08:48 PDT 2009  NO_QUERY   \n",
              "142282       0  1881451988  Fri May 22 04:42:15 PDT 2009  NO_QUERY   \n",
              "403727       0  2058252964  Sat Jun 06 14:34:17 PDT 2009  NO_QUERY   \n",
              "649503       0  2237307600  Fri Jun 19 05:34:22 PDT 2009  NO_QUERY   \n",
              "610789       0  2224301193  Thu Jun 18 09:20:06 PDT 2009  NO_QUERY   \n",
              "\n",
              "               user                                               text  \\\n",
              "514293    Vicki_Gee  i miss nikki nu nu already  shes always there ...   \n",
              "142282    PatCashin  so i had a dream last night i  remember a sign...   \n",
              "403727  deelectable   ohh poor sickly you   hugs hope you feel a li...   \n",
              "649503  justinekepa                               it is raining again    \n",
              "610789     cmatt007                        wish i was in la right now    \n",
              "\n",
              "       sentiment  \n",
              "514293  negative  \n",
              "142282  negative  \n",
              "403727  negative  \n",
              "649503  negative  \n",
              "610789  negative  "
            ],
            "text/html": [
              "\n",
              "  <div id=\"df-312786bd-b514-4918-98b3-ab45871cebc8\" class=\"colab-df-container\">\n",
              "    <div>\n",
              "<style scoped>\n",
              "    .dataframe tbody tr th:only-of-type {\n",
              "        vertical-align: middle;\n",
              "    }\n",
              "\n",
              "    .dataframe tbody tr th {\n",
              "        vertical-align: top;\n",
              "    }\n",
              "\n",
              "    .dataframe thead th {\n",
              "        text-align: right;\n",
              "    }\n",
              "</style>\n",
              "<table border=\"1\" class=\"dataframe\">\n",
              "  <thead>\n",
              "    <tr style=\"text-align: right;\">\n",
              "      <th></th>\n",
              "      <th>target</th>\n",
              "      <th>ids</th>\n",
              "      <th>date</th>\n",
              "      <th>flag</th>\n",
              "      <th>user</th>\n",
              "      <th>text</th>\n",
              "      <th>sentiment</th>\n",
              "    </tr>\n",
              "  </thead>\n",
              "  <tbody>\n",
              "    <tr>\n",
              "      <th>514293</th>\n",
              "      <td>0</td>\n",
              "      <td>2190584004</td>\n",
              "      <td>Tue Jun 16 03:08:48 PDT 2009</td>\n",
              "      <td>NO_QUERY</td>\n",
              "      <td>Vicki_Gee</td>\n",
              "      <td>i miss nikki nu nu already  shes always there ...</td>\n",
              "      <td>negative</td>\n",
              "    </tr>\n",
              "    <tr>\n",
              "      <th>142282</th>\n",
              "      <td>0</td>\n",
              "      <td>1881451988</td>\n",
              "      <td>Fri May 22 04:42:15 PDT 2009</td>\n",
              "      <td>NO_QUERY</td>\n",
              "      <td>PatCashin</td>\n",
              "      <td>so i had a dream last night i  remember a sign...</td>\n",
              "      <td>negative</td>\n",
              "    </tr>\n",
              "    <tr>\n",
              "      <th>403727</th>\n",
              "      <td>0</td>\n",
              "      <td>2058252964</td>\n",
              "      <td>Sat Jun 06 14:34:17 PDT 2009</td>\n",
              "      <td>NO_QUERY</td>\n",
              "      <td>deelectable</td>\n",
              "      <td>ohh poor sickly you   hugs hope you feel a li...</td>\n",
              "      <td>negative</td>\n",
              "    </tr>\n",
              "    <tr>\n",
              "      <th>649503</th>\n",
              "      <td>0</td>\n",
              "      <td>2237307600</td>\n",
              "      <td>Fri Jun 19 05:34:22 PDT 2009</td>\n",
              "      <td>NO_QUERY</td>\n",
              "      <td>justinekepa</td>\n",
              "      <td>it is raining again</td>\n",
              "      <td>negative</td>\n",
              "    </tr>\n",
              "    <tr>\n",
              "      <th>610789</th>\n",
              "      <td>0</td>\n",
              "      <td>2224301193</td>\n",
              "      <td>Thu Jun 18 09:20:06 PDT 2009</td>\n",
              "      <td>NO_QUERY</td>\n",
              "      <td>cmatt007</td>\n",
              "      <td>wish i was in la right now</td>\n",
              "      <td>negative</td>\n",
              "    </tr>\n",
              "  </tbody>\n",
              "</table>\n",
              "</div>\n",
              "    <div class=\"colab-df-buttons\">\n",
              "\n",
              "  <div class=\"colab-df-container\">\n",
              "    <button class=\"colab-df-convert\" onclick=\"convertToInteractive('df-312786bd-b514-4918-98b3-ab45871cebc8')\"\n",
              "            title=\"Convert this dataframe to an interactive table.\"\n",
              "            style=\"display:none;\">\n",
              "\n",
              "  <svg xmlns=\"http://www.w3.org/2000/svg\" height=\"24px\" viewBox=\"0 -960 960 960\">\n",
              "    <path d=\"M120-120v-720h720v720H120Zm60-500h600v-160H180v160Zm220 220h160v-160H400v160Zm0 220h160v-160H400v160ZM180-400h160v-160H180v160Zm440 0h160v-160H620v160ZM180-180h160v-160H180v160Zm440 0h160v-160H620v160Z\"/>\n",
              "  </svg>\n",
              "    </button>\n",
              "\n",
              "  <style>\n",
              "    .colab-df-container {\n",
              "      display:flex;\n",
              "      gap: 12px;\n",
              "    }\n",
              "\n",
              "    .colab-df-convert {\n",
              "      background-color: #E8F0FE;\n",
              "      border: none;\n",
              "      border-radius: 50%;\n",
              "      cursor: pointer;\n",
              "      display: none;\n",
              "      fill: #1967D2;\n",
              "      height: 32px;\n",
              "      padding: 0 0 0 0;\n",
              "      width: 32px;\n",
              "    }\n",
              "\n",
              "    .colab-df-convert:hover {\n",
              "      background-color: #E2EBFA;\n",
              "      box-shadow: 0px 1px 2px rgba(60, 64, 67, 0.3), 0px 1px 3px 1px rgba(60, 64, 67, 0.15);\n",
              "      fill: #174EA6;\n",
              "    }\n",
              "\n",
              "    .colab-df-buttons div {\n",
              "      margin-bottom: 4px;\n",
              "    }\n",
              "\n",
              "    [theme=dark] .colab-df-convert {\n",
              "      background-color: #3B4455;\n",
              "      fill: #D2E3FC;\n",
              "    }\n",
              "\n",
              "    [theme=dark] .colab-df-convert:hover {\n",
              "      background-color: #434B5C;\n",
              "      box-shadow: 0px 1px 3px 1px rgba(0, 0, 0, 0.15);\n",
              "      filter: drop-shadow(0px 1px 2px rgba(0, 0, 0, 0.3));\n",
              "      fill: #FFFFFF;\n",
              "    }\n",
              "  </style>\n",
              "\n",
              "    <script>\n",
              "      const buttonEl =\n",
              "        document.querySelector('#df-312786bd-b514-4918-98b3-ab45871cebc8 button.colab-df-convert');\n",
              "      buttonEl.style.display =\n",
              "        google.colab.kernel.accessAllowed ? 'block' : 'none';\n",
              "\n",
              "      async function convertToInteractive(key) {\n",
              "        const element = document.querySelector('#df-312786bd-b514-4918-98b3-ab45871cebc8');\n",
              "        const dataTable =\n",
              "          await google.colab.kernel.invokeFunction('convertToInteractive',\n",
              "                                                    [key], {});\n",
              "        if (!dataTable) return;\n",
              "\n",
              "        const docLinkHtml = 'Like what you see? Visit the ' +\n",
              "          '<a target=\"_blank\" href=https://colab.research.google.com/notebooks/data_table.ipynb>data table notebook</a>'\n",
              "          + ' to learn more about interactive tables.';\n",
              "        element.innerHTML = '';\n",
              "        dataTable['output_type'] = 'display_data';\n",
              "        await google.colab.output.renderOutput(dataTable, element);\n",
              "        const docLink = document.createElement('div');\n",
              "        docLink.innerHTML = docLinkHtml;\n",
              "        element.appendChild(docLink);\n",
              "      }\n",
              "    </script>\n",
              "  </div>\n",
              "\n",
              "\n",
              "<div id=\"df-6c9b153c-608b-403e-897e-6f7c7656d506\">\n",
              "  <button class=\"colab-df-quickchart\" onclick=\"quickchart('df-6c9b153c-608b-403e-897e-6f7c7656d506')\"\n",
              "            title=\"Suggest charts\"\n",
              "            style=\"display:none;\">\n",
              "\n",
              "<svg xmlns=\"http://www.w3.org/2000/svg\" height=\"24px\"viewBox=\"0 0 24 24\"\n",
              "     width=\"24px\">\n",
              "    <g>\n",
              "        <path d=\"M19 3H5c-1.1 0-2 .9-2 2v14c0 1.1.9 2 2 2h14c1.1 0 2-.9 2-2V5c0-1.1-.9-2-2-2zM9 17H7v-7h2v7zm4 0h-2V7h2v10zm4 0h-2v-4h2v4z\"/>\n",
              "    </g>\n",
              "</svg>\n",
              "  </button>\n",
              "\n",
              "<style>\n",
              "  .colab-df-quickchart {\n",
              "      --bg-color: #E8F0FE;\n",
              "      --fill-color: #1967D2;\n",
              "      --hover-bg-color: #E2EBFA;\n",
              "      --hover-fill-color: #174EA6;\n",
              "      --disabled-fill-color: #AAA;\n",
              "      --disabled-bg-color: #DDD;\n",
              "  }\n",
              "\n",
              "  [theme=dark] .colab-df-quickchart {\n",
              "      --bg-color: #3B4455;\n",
              "      --fill-color: #D2E3FC;\n",
              "      --hover-bg-color: #434B5C;\n",
              "      --hover-fill-color: #FFFFFF;\n",
              "      --disabled-bg-color: #3B4455;\n",
              "      --disabled-fill-color: #666;\n",
              "  }\n",
              "\n",
              "  .colab-df-quickchart {\n",
              "    background-color: var(--bg-color);\n",
              "    border: none;\n",
              "    border-radius: 50%;\n",
              "    cursor: pointer;\n",
              "    display: none;\n",
              "    fill: var(--fill-color);\n",
              "    height: 32px;\n",
              "    padding: 0;\n",
              "    width: 32px;\n",
              "  }\n",
              "\n",
              "  .colab-df-quickchart:hover {\n",
              "    background-color: var(--hover-bg-color);\n",
              "    box-shadow: 0 1px 2px rgba(60, 64, 67, 0.3), 0 1px 3px 1px rgba(60, 64, 67, 0.15);\n",
              "    fill: var(--button-hover-fill-color);\n",
              "  }\n",
              "\n",
              "  .colab-df-quickchart-complete:disabled,\n",
              "  .colab-df-quickchart-complete:disabled:hover {\n",
              "    background-color: var(--disabled-bg-color);\n",
              "    fill: var(--disabled-fill-color);\n",
              "    box-shadow: none;\n",
              "  }\n",
              "\n",
              "  .colab-df-spinner {\n",
              "    border: 2px solid var(--fill-color);\n",
              "    border-color: transparent;\n",
              "    border-bottom-color: var(--fill-color);\n",
              "    animation:\n",
              "      spin 1s steps(1) infinite;\n",
              "  }\n",
              "\n",
              "  @keyframes spin {\n",
              "    0% {\n",
              "      border-color: transparent;\n",
              "      border-bottom-color: var(--fill-color);\n",
              "      border-left-color: var(--fill-color);\n",
              "    }\n",
              "    20% {\n",
              "      border-color: transparent;\n",
              "      border-left-color: var(--fill-color);\n",
              "      border-top-color: var(--fill-color);\n",
              "    }\n",
              "    30% {\n",
              "      border-color: transparent;\n",
              "      border-left-color: var(--fill-color);\n",
              "      border-top-color: var(--fill-color);\n",
              "      border-right-color: var(--fill-color);\n",
              "    }\n",
              "    40% {\n",
              "      border-color: transparent;\n",
              "      border-right-color: var(--fill-color);\n",
              "      border-top-color: var(--fill-color);\n",
              "    }\n",
              "    60% {\n",
              "      border-color: transparent;\n",
              "      border-right-color: var(--fill-color);\n",
              "    }\n",
              "    80% {\n",
              "      border-color: transparent;\n",
              "      border-right-color: var(--fill-color);\n",
              "      border-bottom-color: var(--fill-color);\n",
              "    }\n",
              "    90% {\n",
              "      border-color: transparent;\n",
              "      border-bottom-color: var(--fill-color);\n",
              "    }\n",
              "  }\n",
              "</style>\n",
              "\n",
              "  <script>\n",
              "    async function quickchart(key) {\n",
              "      const quickchartButtonEl =\n",
              "        document.querySelector('#' + key + ' button');\n",
              "      quickchartButtonEl.disabled = true;  // To prevent multiple clicks.\n",
              "      quickchartButtonEl.classList.add('colab-df-spinner');\n",
              "      try {\n",
              "        const charts = await google.colab.kernel.invokeFunction(\n",
              "            'suggestCharts', [key], {});\n",
              "      } catch (error) {\n",
              "        console.error('Error during call to suggestCharts:', error);\n",
              "      }\n",
              "      quickchartButtonEl.classList.remove('colab-df-spinner');\n",
              "      quickchartButtonEl.classList.add('colab-df-quickchart-complete');\n",
              "    }\n",
              "    (() => {\n",
              "      let quickchartButtonEl =\n",
              "        document.querySelector('#df-6c9b153c-608b-403e-897e-6f7c7656d506 button');\n",
              "      quickchartButtonEl.style.display =\n",
              "        google.colab.kernel.accessAllowed ? 'block' : 'none';\n",
              "    })();\n",
              "  </script>\n",
              "</div>\n",
              "\n",
              "    </div>\n",
              "  </div>\n"
            ],
            "application/vnd.google.colaboratory.intrinsic+json": {
              "type": "dataframe",
              "variable_name": "df",
              "repr_error": "0"
            }
          },
          "metadata": {},
          "execution_count": 11
        }
      ],
      "source": [
        "df.head()"
      ]
    },
    {
      "cell_type": "code",
      "execution_count": 12,
      "id": "9f1ea42c-3e2f-459d-aa79-c95716d010f7",
      "metadata": {
        "id": "9f1ea42c-3e2f-459d-aa79-c95716d010f7",
        "colab": {
          "base_uri": "https://localhost:8080/"
        },
        "outputId": "fb23f42c-b2a7-4634-a9d8-95166183346c"
      },
      "outputs": [
        {
          "output_type": "stream",
          "name": "stdout",
          "text": [
            "CPU times: user 1.34 s, sys: 24.4 ms, total: 1.36 s\n",
            "Wall time: 1.39 s\n"
          ]
        }
      ],
      "source": [
        "%%time\n",
        "# Tokenization and Padding\n",
        "tokenizer = Tokenizer(num_words=2000)\n",
        "tokenizer.fit_on_texts(df['text'])\n",
        "sequences = tokenizer.texts_to_sequences(df['text'])\n",
        "X = pad_sequences(sequences, maxlen=100)\n"
      ]
    },
    {
      "cell_type": "code",
      "execution_count": 13,
      "id": "2e8a9ad4-ee3d-441a-86cf-7ceff26a096d",
      "metadata": {
        "id": "2e8a9ad4-ee3d-441a-86cf-7ceff26a096d"
      },
      "outputs": [],
      "source": [
        "# Adjust labels for binary classification (0 for negative, 1 for positive)\n",
        "y = df['target'].apply(lambda x: 0 if x == 0 else 1).values"
      ]
    },
    {
      "cell_type": "code",
      "execution_count": 14,
      "id": "2326b2e5-c4b8-4d95-94d1-6d0bc49ca0fb",
      "metadata": {
        "colab": {
          "base_uri": "https://localhost:8080/",
          "height": 206
        },
        "id": "2326b2e5-c4b8-4d95-94d1-6d0bc49ca0fb",
        "outputId": "44b56571-a642-4f92-8caf-72b0a4556111"
      },
      "outputs": [
        {
          "output_type": "execute_result",
          "data": {
            "text/plain": [
              "        target         ids                          date      flag  \\\n",
              "514293       0  2190584004  Tue Jun 16 03:08:48 PDT 2009  NO_QUERY   \n",
              "142282       0  1881451988  Fri May 22 04:42:15 PDT 2009  NO_QUERY   \n",
              "403727       0  2058252964  Sat Jun 06 14:34:17 PDT 2009  NO_QUERY   \n",
              "649503       0  2237307600  Fri Jun 19 05:34:22 PDT 2009  NO_QUERY   \n",
              "610789       0  2224301193  Thu Jun 18 09:20:06 PDT 2009  NO_QUERY   \n",
              "\n",
              "               user                                               text  \\\n",
              "514293    Vicki_Gee  i miss nikki nu nu already  shes always there ...   \n",
              "142282    PatCashin  so i had a dream last night i  remember a sign...   \n",
              "403727  deelectable   ohh poor sickly you   hugs hope you feel a li...   \n",
              "649503  justinekepa                               it is raining again    \n",
              "610789     cmatt007                        wish i was in la right now    \n",
              "\n",
              "       sentiment  \n",
              "514293  negative  \n",
              "142282  negative  \n",
              "403727  negative  \n",
              "649503  negative  \n",
              "610789  negative  "
            ],
            "text/html": [
              "\n",
              "  <div id=\"df-b6b36d79-5fd1-4869-aef6-24aac24bc87b\" class=\"colab-df-container\">\n",
              "    <div>\n",
              "<style scoped>\n",
              "    .dataframe tbody tr th:only-of-type {\n",
              "        vertical-align: middle;\n",
              "    }\n",
              "\n",
              "    .dataframe tbody tr th {\n",
              "        vertical-align: top;\n",
              "    }\n",
              "\n",
              "    .dataframe thead th {\n",
              "        text-align: right;\n",
              "    }\n",
              "</style>\n",
              "<table border=\"1\" class=\"dataframe\">\n",
              "  <thead>\n",
              "    <tr style=\"text-align: right;\">\n",
              "      <th></th>\n",
              "      <th>target</th>\n",
              "      <th>ids</th>\n",
              "      <th>date</th>\n",
              "      <th>flag</th>\n",
              "      <th>user</th>\n",
              "      <th>text</th>\n",
              "      <th>sentiment</th>\n",
              "    </tr>\n",
              "  </thead>\n",
              "  <tbody>\n",
              "    <tr>\n",
              "      <th>514293</th>\n",
              "      <td>0</td>\n",
              "      <td>2190584004</td>\n",
              "      <td>Tue Jun 16 03:08:48 PDT 2009</td>\n",
              "      <td>NO_QUERY</td>\n",
              "      <td>Vicki_Gee</td>\n",
              "      <td>i miss nikki nu nu already  shes always there ...</td>\n",
              "      <td>negative</td>\n",
              "    </tr>\n",
              "    <tr>\n",
              "      <th>142282</th>\n",
              "      <td>0</td>\n",
              "      <td>1881451988</td>\n",
              "      <td>Fri May 22 04:42:15 PDT 2009</td>\n",
              "      <td>NO_QUERY</td>\n",
              "      <td>PatCashin</td>\n",
              "      <td>so i had a dream last night i  remember a sign...</td>\n",
              "      <td>negative</td>\n",
              "    </tr>\n",
              "    <tr>\n",
              "      <th>403727</th>\n",
              "      <td>0</td>\n",
              "      <td>2058252964</td>\n",
              "      <td>Sat Jun 06 14:34:17 PDT 2009</td>\n",
              "      <td>NO_QUERY</td>\n",
              "      <td>deelectable</td>\n",
              "      <td>ohh poor sickly you   hugs hope you feel a li...</td>\n",
              "      <td>negative</td>\n",
              "    </tr>\n",
              "    <tr>\n",
              "      <th>649503</th>\n",
              "      <td>0</td>\n",
              "      <td>2237307600</td>\n",
              "      <td>Fri Jun 19 05:34:22 PDT 2009</td>\n",
              "      <td>NO_QUERY</td>\n",
              "      <td>justinekepa</td>\n",
              "      <td>it is raining again</td>\n",
              "      <td>negative</td>\n",
              "    </tr>\n",
              "    <tr>\n",
              "      <th>610789</th>\n",
              "      <td>0</td>\n",
              "      <td>2224301193</td>\n",
              "      <td>Thu Jun 18 09:20:06 PDT 2009</td>\n",
              "      <td>NO_QUERY</td>\n",
              "      <td>cmatt007</td>\n",
              "      <td>wish i was in la right now</td>\n",
              "      <td>negative</td>\n",
              "    </tr>\n",
              "  </tbody>\n",
              "</table>\n",
              "</div>\n",
              "    <div class=\"colab-df-buttons\">\n",
              "\n",
              "  <div class=\"colab-df-container\">\n",
              "    <button class=\"colab-df-convert\" onclick=\"convertToInteractive('df-b6b36d79-5fd1-4869-aef6-24aac24bc87b')\"\n",
              "            title=\"Convert this dataframe to an interactive table.\"\n",
              "            style=\"display:none;\">\n",
              "\n",
              "  <svg xmlns=\"http://www.w3.org/2000/svg\" height=\"24px\" viewBox=\"0 -960 960 960\">\n",
              "    <path d=\"M120-120v-720h720v720H120Zm60-500h600v-160H180v160Zm220 220h160v-160H400v160Zm0 220h160v-160H400v160ZM180-400h160v-160H180v160Zm440 0h160v-160H620v160ZM180-180h160v-160H180v160Zm440 0h160v-160H620v160Z\"/>\n",
              "  </svg>\n",
              "    </button>\n",
              "\n",
              "  <style>\n",
              "    .colab-df-container {\n",
              "      display:flex;\n",
              "      gap: 12px;\n",
              "    }\n",
              "\n",
              "    .colab-df-convert {\n",
              "      background-color: #E8F0FE;\n",
              "      border: none;\n",
              "      border-radius: 50%;\n",
              "      cursor: pointer;\n",
              "      display: none;\n",
              "      fill: #1967D2;\n",
              "      height: 32px;\n",
              "      padding: 0 0 0 0;\n",
              "      width: 32px;\n",
              "    }\n",
              "\n",
              "    .colab-df-convert:hover {\n",
              "      background-color: #E2EBFA;\n",
              "      box-shadow: 0px 1px 2px rgba(60, 64, 67, 0.3), 0px 1px 3px 1px rgba(60, 64, 67, 0.15);\n",
              "      fill: #174EA6;\n",
              "    }\n",
              "\n",
              "    .colab-df-buttons div {\n",
              "      margin-bottom: 4px;\n",
              "    }\n",
              "\n",
              "    [theme=dark] .colab-df-convert {\n",
              "      background-color: #3B4455;\n",
              "      fill: #D2E3FC;\n",
              "    }\n",
              "\n",
              "    [theme=dark] .colab-df-convert:hover {\n",
              "      background-color: #434B5C;\n",
              "      box-shadow: 0px 1px 3px 1px rgba(0, 0, 0, 0.15);\n",
              "      filter: drop-shadow(0px 1px 2px rgba(0, 0, 0, 0.3));\n",
              "      fill: #FFFFFF;\n",
              "    }\n",
              "  </style>\n",
              "\n",
              "    <script>\n",
              "      const buttonEl =\n",
              "        document.querySelector('#df-b6b36d79-5fd1-4869-aef6-24aac24bc87b button.colab-df-convert');\n",
              "      buttonEl.style.display =\n",
              "        google.colab.kernel.accessAllowed ? 'block' : 'none';\n",
              "\n",
              "      async function convertToInteractive(key) {\n",
              "        const element = document.querySelector('#df-b6b36d79-5fd1-4869-aef6-24aac24bc87b');\n",
              "        const dataTable =\n",
              "          await google.colab.kernel.invokeFunction('convertToInteractive',\n",
              "                                                    [key], {});\n",
              "        if (!dataTable) return;\n",
              "\n",
              "        const docLinkHtml = 'Like what you see? Visit the ' +\n",
              "          '<a target=\"_blank\" href=https://colab.research.google.com/notebooks/data_table.ipynb>data table notebook</a>'\n",
              "          + ' to learn more about interactive tables.';\n",
              "        element.innerHTML = '';\n",
              "        dataTable['output_type'] = 'display_data';\n",
              "        await google.colab.output.renderOutput(dataTable, element);\n",
              "        const docLink = document.createElement('div');\n",
              "        docLink.innerHTML = docLinkHtml;\n",
              "        element.appendChild(docLink);\n",
              "      }\n",
              "    </script>\n",
              "  </div>\n",
              "\n",
              "\n",
              "<div id=\"df-f33e0d8b-2b6f-4ddc-8d1f-310b0aba19a5\">\n",
              "  <button class=\"colab-df-quickchart\" onclick=\"quickchart('df-f33e0d8b-2b6f-4ddc-8d1f-310b0aba19a5')\"\n",
              "            title=\"Suggest charts\"\n",
              "            style=\"display:none;\">\n",
              "\n",
              "<svg xmlns=\"http://www.w3.org/2000/svg\" height=\"24px\"viewBox=\"0 0 24 24\"\n",
              "     width=\"24px\">\n",
              "    <g>\n",
              "        <path d=\"M19 3H5c-1.1 0-2 .9-2 2v14c0 1.1.9 2 2 2h14c1.1 0 2-.9 2-2V5c0-1.1-.9-2-2-2zM9 17H7v-7h2v7zm4 0h-2V7h2v10zm4 0h-2v-4h2v4z\"/>\n",
              "    </g>\n",
              "</svg>\n",
              "  </button>\n",
              "\n",
              "<style>\n",
              "  .colab-df-quickchart {\n",
              "      --bg-color: #E8F0FE;\n",
              "      --fill-color: #1967D2;\n",
              "      --hover-bg-color: #E2EBFA;\n",
              "      --hover-fill-color: #174EA6;\n",
              "      --disabled-fill-color: #AAA;\n",
              "      --disabled-bg-color: #DDD;\n",
              "  }\n",
              "\n",
              "  [theme=dark] .colab-df-quickchart {\n",
              "      --bg-color: #3B4455;\n",
              "      --fill-color: #D2E3FC;\n",
              "      --hover-bg-color: #434B5C;\n",
              "      --hover-fill-color: #FFFFFF;\n",
              "      --disabled-bg-color: #3B4455;\n",
              "      --disabled-fill-color: #666;\n",
              "  }\n",
              "\n",
              "  .colab-df-quickchart {\n",
              "    background-color: var(--bg-color);\n",
              "    border: none;\n",
              "    border-radius: 50%;\n",
              "    cursor: pointer;\n",
              "    display: none;\n",
              "    fill: var(--fill-color);\n",
              "    height: 32px;\n",
              "    padding: 0;\n",
              "    width: 32px;\n",
              "  }\n",
              "\n",
              "  .colab-df-quickchart:hover {\n",
              "    background-color: var(--hover-bg-color);\n",
              "    box-shadow: 0 1px 2px rgba(60, 64, 67, 0.3), 0 1px 3px 1px rgba(60, 64, 67, 0.15);\n",
              "    fill: var(--button-hover-fill-color);\n",
              "  }\n",
              "\n",
              "  .colab-df-quickchart-complete:disabled,\n",
              "  .colab-df-quickchart-complete:disabled:hover {\n",
              "    background-color: var(--disabled-bg-color);\n",
              "    fill: var(--disabled-fill-color);\n",
              "    box-shadow: none;\n",
              "  }\n",
              "\n",
              "  .colab-df-spinner {\n",
              "    border: 2px solid var(--fill-color);\n",
              "    border-color: transparent;\n",
              "    border-bottom-color: var(--fill-color);\n",
              "    animation:\n",
              "      spin 1s steps(1) infinite;\n",
              "  }\n",
              "\n",
              "  @keyframes spin {\n",
              "    0% {\n",
              "      border-color: transparent;\n",
              "      border-bottom-color: var(--fill-color);\n",
              "      border-left-color: var(--fill-color);\n",
              "    }\n",
              "    20% {\n",
              "      border-color: transparent;\n",
              "      border-left-color: var(--fill-color);\n",
              "      border-top-color: var(--fill-color);\n",
              "    }\n",
              "    30% {\n",
              "      border-color: transparent;\n",
              "      border-left-color: var(--fill-color);\n",
              "      border-top-color: var(--fill-color);\n",
              "      border-right-color: var(--fill-color);\n",
              "    }\n",
              "    40% {\n",
              "      border-color: transparent;\n",
              "      border-right-color: var(--fill-color);\n",
              "      border-top-color: var(--fill-color);\n",
              "    }\n",
              "    60% {\n",
              "      border-color: transparent;\n",
              "      border-right-color: var(--fill-color);\n",
              "    }\n",
              "    80% {\n",
              "      border-color: transparent;\n",
              "      border-right-color: var(--fill-color);\n",
              "      border-bottom-color: var(--fill-color);\n",
              "    }\n",
              "    90% {\n",
              "      border-color: transparent;\n",
              "      border-bottom-color: var(--fill-color);\n",
              "    }\n",
              "  }\n",
              "</style>\n",
              "\n",
              "  <script>\n",
              "    async function quickchart(key) {\n",
              "      const quickchartButtonEl =\n",
              "        document.querySelector('#' + key + ' button');\n",
              "      quickchartButtonEl.disabled = true;  // To prevent multiple clicks.\n",
              "      quickchartButtonEl.classList.add('colab-df-spinner');\n",
              "      try {\n",
              "        const charts = await google.colab.kernel.invokeFunction(\n",
              "            'suggestCharts', [key], {});\n",
              "      } catch (error) {\n",
              "        console.error('Error during call to suggestCharts:', error);\n",
              "      }\n",
              "      quickchartButtonEl.classList.remove('colab-df-spinner');\n",
              "      quickchartButtonEl.classList.add('colab-df-quickchart-complete');\n",
              "    }\n",
              "    (() => {\n",
              "      let quickchartButtonEl =\n",
              "        document.querySelector('#df-f33e0d8b-2b6f-4ddc-8d1f-310b0aba19a5 button');\n",
              "      quickchartButtonEl.style.display =\n",
              "        google.colab.kernel.accessAllowed ? 'block' : 'none';\n",
              "    })();\n",
              "  </script>\n",
              "</div>\n",
              "\n",
              "    </div>\n",
              "  </div>\n"
            ],
            "application/vnd.google.colaboratory.intrinsic+json": {
              "type": "dataframe",
              "variable_name": "df",
              "repr_error": "0"
            }
          },
          "metadata": {},
          "execution_count": 14
        }
      ],
      "source": [
        "df.head()"
      ]
    },
    {
      "cell_type": "code",
      "execution_count": 15,
      "id": "af6a7b94-b86d-4401-8b38-6f5b6e4fe2db",
      "metadata": {
        "colab": {
          "base_uri": "https://localhost:8080/"
        },
        "id": "af6a7b94-b86d-4401-8b38-6f5b6e4fe2db",
        "outputId": "ef602d61-4d5d-4119-99c8-07919b305345"
      },
      "outputs": [
        {
          "output_type": "stream",
          "name": "stdout",
          "text": [
            "Shape of X_train: (32000, 100)\n",
            "Shape of y_train: (32000, 2)\n",
            "Shape of X_val: (4000, 100)\n",
            "Shape of y_val: (4000, 2)\n",
            "Shape of X_test: (4000, 100)\n",
            "Shape of y_test: (4000, 2)\n"
          ]
        }
      ],
      "source": [
        "# Split dataset into train, validation, and test sets\n",
        "X_train, X_temp, y_train, y_temp = train_test_split(X, y, test_size=0.2, random_state=42)\n",
        "X_val, X_test, y_val, y_test = train_test_split(X_temp, y_temp, test_size=0.5, random_state=42)\n",
        "\n",
        "# Convert labels to categorical format for binary classification\n",
        "y_train = to_categorical(y_train, num_classes=2)\n",
        "y_val = to_categorical(y_val, num_classes=2)\n",
        "y_test = to_categorical(y_test, num_classes=2)\n",
        "\n",
        "# Print shapes of the datasets\n",
        "print('Shape of X_train:', X_train.shape)\n",
        "print('Shape of y_train:', y_train.shape)\n",
        "print('Shape of X_val:', X_val.shape)\n",
        "print('Shape of y_val:', y_val.shape)\n",
        "print('Shape of X_test:', X_test.shape)\n",
        "print('Shape of y_test:', y_test.shape)"
      ]
    },
    {
      "cell_type": "markdown",
      "id": "ed9f31f8-01af-49b4-9022-32c33146fec2",
      "metadata": {
        "id": "ed9f31f8-01af-49b4-9022-32c33146fec2"
      },
      "source": [
        "### 🌱Baseline Model & Hyperparameter Tuning"
      ]
    },
    {
      "cell_type": "markdown",
      "id": "OqIxpMgLIDqQ",
      "metadata": {
        "id": "OqIxpMgLIDqQ"
      },
      "source": [
        "### Baseline Regression Model"
      ]
    },
    {
      "cell_type": "code",
      "execution_count": 16,
      "id": "SratgaKRFuaV",
      "metadata": {
        "id": "SratgaKRFuaV"
      },
      "outputs": [],
      "source": [
        "# Build baseline model: logistic regression\n",
        "def build_baseline_model(learning_rate = 0.001):\n",
        "\n",
        "  tf.keras.backend.clear_session()\n",
        "  tf.random.set_seed(0)\n",
        "\n",
        "  model = tf.keras.Sequential()\n",
        "  model.add(tf.keras.layers.Input(shape=(100,)))\n",
        "\n",
        "  model.add(tf.keras.layers.Dense(\n",
        "      units=2,                     # output dim (for binary classification)\n",
        "      activation=\"sigmoid\"         # sigmoid activation for binary classification\n",
        "  ))\n",
        "\n",
        "  model.compile(loss='binary_crossentropy',   # this is a classification task\n",
        "                optimizer=tf.keras.optimizers.Adam(learning_rate=learning_rate), # default learning rate is 0.001\n",
        "                metrics=['accuracy'])\n",
        "\n",
        "  return model"
      ]
    },
    {
      "cell_type": "markdown",
      "source": [
        "Hyperparameter Tuning - Baseline Model"
      ],
      "metadata": {
        "id": "5yr-Vbjflk0S"
      },
      "id": "5yr-Vbjflk0S"
    },
    {
      "cell_type": "code",
      "source": [
        "# Plotting function\n",
        "def plot_metrics(history, title):\n",
        "    acc = history.history['accuracy']\n",
        "    val_acc = history.history['val_accuracy']\n",
        "    loss = history.history['loss']\n",
        "    val_loss = history.history['val_loss']\n",
        "    epochs = range(1, len(acc) + 1)\n",
        "\n",
        "    plt.figure(figsize=(10, 4))\n",
        "\n",
        "    # Plotting accuracy\n",
        "    plt.subplot(1, 2, 1)\n",
        "    plt.plot(epochs, acc, 'bo-', label='Training accuracy')\n",
        "    plt.plot(epochs, val_acc, 'ro-', label='Validation accuracy')\n",
        "    plt.title(f'Training and validation accuracy\\n: {title}')\n",
        "    plt.xlabel('Epochs')\n",
        "    plt.ylabel('Accuracy')\n",
        "    plt.legend()\n",
        "\n",
        "    # Plotting loss\n",
        "    plt.subplot(1, 2, 2)\n",
        "    plt.plot(epochs, loss, 'bo-', label='Training loss')\n",
        "    plt.plot(epochs, val_loss, 'ro-', label='Validation loss')\n",
        "    plt.title(f'Training and validation loss\\n: {title}')\n",
        "    plt.xlabel('Epochs')\n",
        "    plt.ylabel('Loss')\n",
        "    plt.legend()\n",
        "\n",
        "    plt.show()"
      ],
      "metadata": {
        "id": "_laYYnsXljq8"
      },
      "id": "_laYYnsXljq8",
      "execution_count": 17,
      "outputs": []
    },
    {
      "cell_type": "code",
      "source": [
        "# Adding early stop if the loss becomes stable at early epochs\n",
        "early_stopping = tf.keras.callbacks.EarlyStopping(monitor='val_accuracy', patience=3)"
      ],
      "metadata": {
        "id": "vNXmMKFO_Vfy"
      },
      "id": "vNXmMKFO_Vfy",
      "execution_count": 18,
      "outputs": []
    },
    {
      "cell_type": "code",
      "execution_count": 19,
      "id": "Pq5uiRA9F7eH",
      "metadata": {
        "colab": {
          "base_uri": "https://localhost:8080/",
          "height": 109
        },
        "id": "Pq5uiRA9F7eH",
        "outputId": "6e9a653f-c103-4ff4-9876-728e00f73da2"
      },
      "outputs": [
        {
          "output_type": "execute_result",
          "data": {
            "text/plain": [
              "\"\\n%%time\\n# Fine hypertuning for model1\\nlearning_rate = [0.01, 0.001, 0.0005]\\nepochs = [5, 10, 15]\\n\\nfor l in learning_rate:\\n  for e in epochs:\\n    model1 = build_baseline_model(learning_rate = l)\\n    model1_history = model1.fit(\\n        x = X_train,\\n        y = y_train,          # corresponding binary labels\\n        epochs=e,             # number of passes through the training data\\n        batch_size=64,        # mini-batch size\\n        validation_data=(X_val, y_val), # use a fraction of the examples for validation\\n        verbose=0,\\n        callbacks=early_stopping\\n        )\\n    val_loss = model1_history.history['val_loss'][-1]\\n    val_accuracy = model1_history.history['val_accuracy'][-1]\\n    print(f'val_loss: {val_loss:.4f}, val_accuracy: {val_accuracy:.4f}')\\n    plot_metrics(model1_history, f'Learning Rate: {l}, Epochs: {e}')\\n    print('\\n')\\n\""
            ],
            "application/vnd.google.colaboratory.intrinsic+json": {
              "type": "string"
            }
          },
          "metadata": {},
          "execution_count": 19
        }
      ],
      "source": [
        "'''\n",
        "%%time\n",
        "# Fine hypertuning for model1\n",
        "learning_rate = [0.01, 0.001, 0.0005]\n",
        "epochs = [5, 10, 15]\n",
        "\n",
        "for l in learning_rate:\n",
        "  for e in epochs:\n",
        "    model1 = build_baseline_model(learning_rate = l)\n",
        "    model1_history = model1.fit(\n",
        "        x = X_train,\n",
        "        y = y_train,          # corresponding binary labels\n",
        "        epochs=e,             # number of passes through the training data\n",
        "        batch_size=64,        # mini-batch size\n",
        "        validation_data=(X_val, y_val), # use a fraction of the examples for validation\n",
        "        verbose=0,\n",
        "        callbacks=early_stopping\n",
        "        )\n",
        "    val_loss = model1_history.history['val_loss'][-1]\n",
        "    val_accuracy = model1_history.history['val_accuracy'][-1]\n",
        "    print(f'val_loss: {val_loss:.4f}, val_accuracy: {val_accuracy:.4f}')\n",
        "    plot_metrics(model1_history, f'Learning Rate: {l}, Epochs: {e}')\n",
        "    print('\\n')\n",
        "'''"
      ]
    },
    {
      "cell_type": "markdown",
      "source": [
        "Final Baseline Model"
      ],
      "metadata": {
        "id": "N9eH-Jgdnaiy"
      },
      "id": "N9eH-Jgdnaiy"
    },
    {
      "cell_type": "code",
      "source": [
        "%%time\n",
        "# Finalize Baseline Model: Learning_rate = 0.0005, epochs = 15\n",
        "model1 = build_baseline_model(learning_rate = 0.0005)\n",
        "model1_history = model1.fit(\n",
        "    x = X_train,\n",
        "    y = y_train,          # corresponding binary labels\n",
        "    epochs=15,             # number of passes through the training data\n",
        "    batch_size=64,        # mini-batch size\n",
        "    validation_data=(X_val, y_val), # use a fraction of the examples for validation\n",
        "    verbose=0\n",
        "    )\n",
        "\n",
        "model1_score, model1_acc = model1.evaluate(X_test, y_test, batch_size=64)\n",
        "print('Logistic Regression Baseline Test accuracy:', model1_acc)"
      ],
      "metadata": {
        "colab": {
          "base_uri": "https://localhost:8080/"
        },
        "id": "rExV-fdcXQ76",
        "outputId": "edbe0ac4-fe8c-46b9-c6e8-9ed2cd5e5cc8"
      },
      "id": "rExV-fdcXQ76",
      "execution_count": 20,
      "outputs": [
        {
          "output_type": "stream",
          "name": "stdout",
          "text": [
            "63/63 [==============================] - 0s 2ms/step - loss: 0.7319 - accuracy: 0.5238\n",
            "Logistic Regression Baseline Test accuracy: 0.5237500071525574\n",
            "CPU times: user 18.5 s, sys: 1.53 s, total: 20.1 s\n",
            "Wall time: 18.8 s\n"
          ]
        }
      ]
    },
    {
      "cell_type": "markdown",
      "id": "lrAZPcI_ISR6",
      "metadata": {
        "id": "lrAZPcI_ISR6"
      },
      "source": [
        "### ⭐Improvements"
      ]
    },
    {
      "cell_type": "markdown",
      "id": "5b0fad1c-8c9a-4089-8d8e-1bf80dce313b",
      "metadata": {
        "id": "5b0fad1c-8c9a-4089-8d8e-1bf80dce313b"
      },
      "source": [
        "### CNN Model"
      ]
    },
    {
      "cell_type": "code",
      "execution_count": 21,
      "id": "f32393c7-4276-4693-ac50-d45fc0cd5134",
      "metadata": {
        "id": "f32393c7-4276-4693-ac50-d45fc0cd5134",
        "colab": {
          "base_uri": "https://localhost:8080/",
          "height": 90
        },
        "outputId": "6bd1d5f5-f196-4531-8fa2-5d9aaf4b28f8"
      },
      "outputs": [
        {
          "output_type": "execute_result",
          "data": {
            "text/plain": [
              "\"\\n%%time\\n# CNN model\\ndef build_cnn_model(pool_size = 3):\\n  tf.keras.backend.clear_session()\\n  tf.random.set_seed(0)\\n\\n  cnn_model = Sequential()\\n  cnn_model.add(tf.keras.layers.Input(shape=(100,)))\\n  cnn_model.add(Embedding(input_dim=4000, output_dim=128, input_length=100))\\n  cnn_model.add(Conv1D(filters=128, kernel_size=5, activation='relu'))\\n  cnn_model.add(MaxPooling1D(pool_size=pool_size))\\n  cnn_model.add(Flatten())\\n  cnn_model.add(Dense(128, activation='relu'))\\n  cnn_model.add(Dropout(0.1))\\n  cnn_model.add(Dense(64, activation='relu'))\\n  cnn_model.add(Dropout(0.1))\\n  cnn_model.add(Dense(2, activation='softmax'))\\n\\n  cnn_model.compile(loss='categorical_crossentropy', optimizer='adam', metrics=['accuracy'])\\n\\n  return cnn_model\\n\""
            ],
            "application/vnd.google.colaboratory.intrinsic+json": {
              "type": "string"
            }
          },
          "metadata": {},
          "execution_count": 21
        }
      ],
      "source": [
        "'''\n",
        "%%time\n",
        "# CNN model\n",
        "def build_cnn_model(pool_size = 3):\n",
        "  tf.keras.backend.clear_session()\n",
        "  tf.random.set_seed(0)\n",
        "\n",
        "  cnn_model = Sequential()\n",
        "  cnn_model.add(tf.keras.layers.Input(shape=(100,)))\n",
        "  cnn_model.add(Embedding(input_dim=4000, output_dim=128, input_length=100))\n",
        "  cnn_model.add(Conv1D(filters=128, kernel_size=5, activation='relu'))\n",
        "  cnn_model.add(MaxPooling1D(pool_size=pool_size))\n",
        "  cnn_model.add(Flatten())\n",
        "  cnn_model.add(Dense(128, activation='relu'))\n",
        "  cnn_model.add(Dropout(0.1))\n",
        "  cnn_model.add(Dense(64, activation='relu'))\n",
        "  cnn_model.add(Dropout(0.1))\n",
        "  cnn_model.add(Dense(2, activation='softmax'))\n",
        "\n",
        "  cnn_model.compile(loss='categorical_crossentropy', optimizer='adam', metrics=['accuracy'])\n",
        "\n",
        "  return cnn_model\n",
        "'''"
      ]
    },
    {
      "cell_type": "code",
      "execution_count": 22,
      "id": "8f8b665f-b1f3-4862-8487-d71ca1ea8389",
      "metadata": {
        "colab": {
          "base_uri": "https://localhost:8080/",
          "height": 72
        },
        "id": "8f8b665f-b1f3-4862-8487-d71ca1ea8389",
        "outputId": "9d90bdd5-71f1-4230-9b32-d8c5e681d089"
      },
      "outputs": [
        {
          "output_type": "execute_result",
          "data": {
            "text/plain": [
              "\"\\n%%time\\n# Fine hypertuning for cnn_model\\npool_sizes = [2, 4, 6]\\nepochs = [5, 10, 15]\\nfor p in pool_sizes:\\n  for e in epochs:\\n    cnn_model = build_cnn_model(pool_size = p)\\n    cnn_history = cnn_model.fit(X_train, y_train, epochs=e, batch_size=64, validation_data=(X_val, y_val), verbose=0, callbacks=early_stopping)\\n    val_loss = cnn_history.history['val_loss'][-1]\\n    val_accuracy = cnn_history.history['val_accuracy'][-1]\\n    print(f'val_loss: {val_loss:.4f}, val_accuracy: {val_accuracy:.4f}')\\n    plot_metrics(cnn_history, f'Pool Size: {p}, Epochs: {e}')\\n    print('\\n')\\n\""
            ],
            "application/vnd.google.colaboratory.intrinsic+json": {
              "type": "string"
            }
          },
          "metadata": {},
          "execution_count": 22
        }
      ],
      "source": [
        "'''\n",
        "%%time\n",
        "# Fine hypertuning for cnn_model\n",
        "pool_sizes = [2, 4, 6]\n",
        "epochs = [5, 10, 15]\n",
        "for p in pool_sizes:\n",
        "  for e in epochs:\n",
        "    cnn_model = build_cnn_model(pool_size = p)\n",
        "    cnn_history = cnn_model.fit(X_train, y_train, epochs=e, batch_size=64, validation_data=(X_val, y_val), verbose=0, callbacks=early_stopping)\n",
        "    val_loss = cnn_history.history['val_loss'][-1]\n",
        "    val_accuracy = cnn_history.history['val_accuracy'][-1]\n",
        "    print(f'val_loss: {val_loss:.4f}, val_accuracy: {val_accuracy:.4f}')\n",
        "    plot_metrics(cnn_history, f'Pool Size: {p}, Epochs: {e}')\n",
        "    print('\\n')\n",
        "'''"
      ]
    },
    {
      "cell_type": "code",
      "source": [
        "'''\n",
        "# The final model: pool size: 2, epochs = 10\n",
        "cnn_model = build_cnn_model(pool_size = 4)\n",
        "cnn_history = cnn_model.fit(X_train, y_train, epochs=5, batch_size=64, validation_data=(X_val, y_val), callbacks=early_stopping)\n",
        "\n",
        "cnn_score, cnn_acc = cnn_model.evaluate(X_test, y_test, batch_size=64)\n",
        "print('CNN Model Test accuracy:', cnn_acc)\n",
        "'''"
      ],
      "metadata": {
        "colab": {
          "base_uri": "https://localhost:8080/",
          "height": 54
        },
        "id": "K4GMuki0Cmjp",
        "outputId": "6c535de4-1971-4a99-9b40-0086e28cf13a"
      },
      "id": "K4GMuki0Cmjp",
      "execution_count": 24,
      "outputs": [
        {
          "output_type": "execute_result",
          "data": {
            "text/plain": [
              "\"\\n# The final model: pool size: 2, epochs = 10\\ncnn_model = build_cnn_model(pool_size = 4)\\ncnn_history = cnn_model.fit(X_train, y_train, epochs=5, batch_size=64, validation_data=(X_val, y_val), callbacks=early_stopping)\\n\\ncnn_score, cnn_acc = cnn_model.evaluate(X_test, y_test, batch_size=64)\\nprint('CNN Model Test accuracy:', cnn_acc)\\n\""
            ],
            "application/vnd.google.colaboratory.intrinsic+json": {
              "type": "string"
            }
          },
          "metadata": {},
          "execution_count": 24
        }
      ]
    },
    {
      "cell_type": "markdown",
      "source": [
        "### CNN Model Improvement - Replacing Embedding Layers with Word2Vec"
      ],
      "metadata": {
        "id": "yXvoGRJflv4H"
      },
      "id": "yXvoGRJflv4H"
    },
    {
      "cell_type": "markdown",
      "source": [
        "Hyperparameter Tuning - Embedding Layer"
      ],
      "metadata": {
        "id": "Ew4cJnLVnDp6"
      },
      "id": "Ew4cJnLVnDp6"
    },
    {
      "cell_type": "code",
      "source": [
        "%%time\n",
        "import gensim.downloader as api\n",
        "\n",
        "# Load Google's pre-trained Word2Vec model\n",
        "word2vec = api.load('word2vec-google-news-300')"
      ],
      "metadata": {
        "colab": {
          "base_uri": "https://localhost:8080/"
        },
        "id": "VffHZfwLYrbD",
        "outputId": "135461d8-0d90-4f98-e3dc-00a7fa91abb4"
      },
      "id": "VffHZfwLYrbD",
      "execution_count": 27,
      "outputs": [
        {
          "output_type": "stream",
          "name": "stdout",
          "text": [
            "[==================================================] 100.0% 1662.8/1662.8MB downloaded\n",
            "CPU times: user 6min 3s, sys: 39.5 s, total: 6min 43s\n",
            "Wall time: 8min 48s\n"
          ]
        }
      ]
    },
    {
      "cell_type": "code",
      "source": [
        "# Create embedding matrix\n",
        "'''\n",
        "The result is a set of word vectors, where each word is represented by\n",
        "a vector of fixed dimensionality (300 dimensions).\n",
        "These vectors capture semantic relationships between words,\n",
        "meaning that words with similar meanings are close to each other in the vector space.\n",
        "'''\n",
        "word_index = tokenizer.word_index\n",
        "embedding_dim = 300  # Google Word2Vec uses 300-dimensional vectors\n",
        "embedding_matrix = np.zeros((4000, embedding_dim))\n",
        "\n",
        "for word, i in word_index.items():\n",
        "    if i < 4000:\n",
        "        try:\n",
        "            embedding_vector = word2vec[word]\n",
        "            embedding_matrix[i] = embedding_vector\n",
        "        except KeyError:\n",
        "            # Words not found in the Word2Vec model will be all zeros.\n",
        "            embedding_matrix[i] = np.random.randn(embedding_dim)"
      ],
      "metadata": {
        "id": "u1-KULyXbsWp"
      },
      "id": "u1-KULyXbsWp",
      "execution_count": 28,
      "outputs": []
    },
    {
      "cell_type": "code",
      "source": [
        "def build_cnn_model2(pool_size=3, embedding_dim=300):\n",
        "    tf.keras.backend.clear_session()\n",
        "    tf.random.set_seed(0)\n",
        "\n",
        "    cnn_model = Sequential()\n",
        "    cnn_model.add(tf.keras.layers.Input(shape=(100,)))\n",
        "    cnn_model.add(Embedding(input_dim=4000,\n",
        "                            output_dim=embedding_dim,\n",
        "                            weights=[embedding_matrix],\n",
        "                            input_length=100,\n",
        "                            trainable=False))\n",
        "    cnn_model.add(Conv1D(filters=128, kernel_size=5, activation='relu'))\n",
        "    cnn_model.add(MaxPooling1D(pool_size=pool_size))\n",
        "    cnn_model.add(Flatten())\n",
        "    cnn_model.add(Dense(128, activation='relu'))\n",
        "    cnn_model.add(Dropout(0.5))\n",
        "    cnn_model.add(Dense(64, activation='relu'))\n",
        "    cnn_model.add(Dropout(0.5))\n",
        "    cnn_model.add(Dense(2, activation='sigmoid'))\n",
        "\n",
        "    cnn_model.compile(loss='categorical_crossentropy', optimizer='adam', metrics=['accuracy'])\n",
        "\n",
        "    return cnn_model"
      ],
      "metadata": {
        "id": "qWfjCWZPZ-P1"
      },
      "id": "qWfjCWZPZ-P1",
      "execution_count": 29,
      "outputs": []
    },
    {
      "cell_type": "code",
      "source": [
        "'''\n",
        "%%time\n",
        "pool_sizes = [3, 6, 9]\n",
        "epochs = [5, 10, 15]\n",
        "\n",
        "for p in pool_sizes:\n",
        "  for e in epochs:\n",
        "    cnn_model2 = build_cnn_model2(pool_size=p)\n",
        "    cnn_model2_history = cnn_model2.fit(\n",
        "        x = X_train,\n",
        "        y = y_train,          # corresponding binary labels\n",
        "        epochs=e,             # number of passes through the training data\n",
        "        batch_size=64,        # mini-batch size\n",
        "        validation_data=(X_val, y_val), # use a fraction of the examples for validation\n",
        "        verbose=0,\n",
        "        callbacks=early_stopping\n",
        "        )\n",
        "    val_loss = cnn_model2_history.history['val_loss'][-1]\n",
        "    val_accuracy = cnn_model2_history.history['val_accuracy'][-1]\n",
        "    print(f'val_loss: {val_loss:.4f}, val_accuracy: {val_accuracy:.4f}')\n",
        "    plot_metrics(cnn_model2_history, f'Pool Size: {p}, Epochs: {e}')\n",
        "    print('\\n')\n",
        "'''"
      ],
      "metadata": {
        "id": "SulG3DxCpHYM"
      },
      "id": "SulG3DxCpHYM",
      "execution_count": null,
      "outputs": []
    },
    {
      "cell_type": "code",
      "source": [
        "# The final improved cnn model: pool size: 6, epochs = 5\n",
        "cnn_model2 = build_cnn_model2(pool_size = 4)\n",
        "cnn_history2 = cnn_model2.fit(X_train, y_train, epochs=5, batch_size=64, validation_data=(X_val, y_val), callbacks=early_stopping)\n",
        "\n",
        "cnn_score2, cnn_acc2 = cnn_model2.evaluate(X_test, y_test, batch_size=64)\n",
        "print('CNN Model Test accuracy:', cnn_acc2)"
      ],
      "metadata": {
        "colab": {
          "base_uri": "https://localhost:8080/"
        },
        "id": "hbYrW8yYh3La",
        "outputId": "1d37d34c-d77e-415f-bedf-ad763f1c9c36"
      },
      "id": "hbYrW8yYh3La",
      "execution_count": 31,
      "outputs": [
        {
          "output_type": "stream",
          "name": "stdout",
          "text": [
            "Epoch 1/5\n",
            "500/500 [==============================] - 11s 12ms/step - loss: 0.6450 - accuracy: 0.6209 - val_loss: 0.5436 - val_accuracy: 0.7258\n",
            "Epoch 2/5\n",
            "500/500 [==============================] - 4s 9ms/step - loss: 0.5452 - accuracy: 0.7250 - val_loss: 0.5182 - val_accuracy: 0.7458\n",
            "Epoch 3/5\n",
            "500/500 [==============================] - 3s 6ms/step - loss: 0.5162 - accuracy: 0.7504 - val_loss: 0.5108 - val_accuracy: 0.7487\n",
            "Epoch 4/5\n",
            "500/500 [==============================] - 4s 7ms/step - loss: 0.4875 - accuracy: 0.7656 - val_loss: 0.5188 - val_accuracy: 0.7552\n",
            "Epoch 5/5\n",
            "500/500 [==============================] - 3s 6ms/step - loss: 0.4540 - accuracy: 0.7860 - val_loss: 0.5240 - val_accuracy: 0.7455\n",
            "63/63 [==============================] - 0s 5ms/step - loss: 0.5283 - accuracy: 0.7415\n",
            "CNN Model Test accuracy: 0.7415000200271606\n"
          ]
        }
      ]
    },
    {
      "cell_type": "markdown",
      "id": "15707155-ec85-4ccc-93ed-c0459c702136",
      "metadata": {
        "id": "15707155-ec85-4ccc-93ed-c0459c702136"
      },
      "source": [
        "### 📊Plotting"
      ]
    },
    {
      "cell_type": "markdown",
      "source": [
        "### Metrics Plot"
      ],
      "metadata": {
        "id": "CYZrVsXPbuWi"
      },
      "id": "CYZrVsXPbuWi"
    },
    {
      "cell_type": "code",
      "execution_count": 32,
      "id": "f2d6eb1a-cbea-41f8-a0c8-de4fbee74806",
      "metadata": {
        "id": "f2d6eb1a-cbea-41f8-a0c8-de4fbee74806"
      },
      "outputs": [],
      "source": [
        "# Plotting function\n",
        "def plot_metrics(history, title):\n",
        "    acc = history.history['accuracy']\n",
        "    val_acc = history.history['val_accuracy']\n",
        "    loss = history.history['loss']\n",
        "    val_loss = history.history['val_loss']\n",
        "    epochs = range(1, len(acc) + 1)\n",
        "\n",
        "    plt.figure(figsize=(10, 4))\n",
        "\n",
        "    # Plotting accuracy\n",
        "    plt.subplot(1, 2, 1)\n",
        "    plt.plot(epochs, acc, 'bo-', label='Training accuracy')\n",
        "    plt.plot(epochs, val_acc, 'ro-', label='Validation accuracy')\n",
        "    plt.title(f'Training and validation accuracy\\n: {title}')\n",
        "    plt.xlabel('Epochs')\n",
        "    plt.ylabel('Accuracy')\n",
        "    plt.legend()\n",
        "\n",
        "    # Plotting loss\n",
        "    plt.subplot(1, 2, 2)\n",
        "    plt.plot(epochs, loss, 'bo-', label='Training loss')\n",
        "    plt.plot(epochs, val_loss, 'ro-', label='Validation loss')\n",
        "    plt.title(f'Training and validation loss\\n: {title}')\n",
        "    plt.xlabel('Epochs')\n",
        "    plt.ylabel('Loss')\n",
        "    plt.legend()\n",
        "\n",
        "    plt.show()\n",
        "\n"
      ]
    },
    {
      "cell_type": "code",
      "execution_count": 34,
      "id": "f207e86d-8c02-4a6e-82f5-ff9429154ebf",
      "metadata": {
        "colab": {
          "base_uri": "https://localhost:8080/",
          "height": 845
        },
        "id": "f207e86d-8c02-4a6e-82f5-ff9429154ebf",
        "outputId": "31066dd2-9fba-4234-c0db-8f47019818d6"
      },
      "outputs": [
        {
          "output_type": "display_data",
          "data": {
            "text/plain": [
              "<Figure size 1000x400 with 2 Axes>"
            ],
            "image/png": "[encoded data removed]"
          },
          "metadata": {}
        },
        {
          "output_type": "display_data",
          "data": {
            "text/plain": [
              "<Figure size 1000x400 with 2 Axes>"
            ],
            "image/png": "[encoded data removed]"
          },
          "metadata": {}
        }
      ],
      "source": [
        "plot_metrics(model1_history, 'Baseline Logistic Regression Model Performance')\n",
        "# plot_metrics(cnn_history, 'Convolutional Neural Network Model Performance')\n",
        "plot_metrics(cnn_history2, 'CNN Model with Word2Vec Layer Performance')\n"
      ]
    },
    {
      "cell_type": "markdown",
      "source": [
        "### Performance Table"
      ],
      "metadata": {
        "id": "fIsZzu_co8vp"
      },
      "id": "fIsZzu_co8vp"
    },
    {
      "cell_type": "code",
      "source": [
        "import pandas as pd\n",
        "from sklearn.metrics import accuracy_score, precision_score, recall_score, f1_score\n",
        "\n",
        "# Function to evaluate a model and return its performance metrics\n",
        "def evaluate_model(model, X_test, y_test):\n",
        "    y_pred = model.predict(X_test)\n",
        "    y_pred_classes = y_pred.argmax(axis=1)\n",
        "    y_true = y_test.argmax(axis=1)\n",
        "\n",
        "    accuracy = accuracy_score(y_true, y_pred_classes)\n",
        "    precision = precision_score(y_true, y_pred_classes, average='weighted')\n",
        "    recall = recall_score(y_true, y_pred_classes, average='weighted')\n",
        "    f1 = f1_score(y_true, y_pred_classes, average='weighted')\n",
        "\n",
        "    return accuracy, precision, recall, f1\n",
        "\n",
        "# Assuming you have 4 models already trained\n",
        "models = [model1, cnn_model2]\n",
        "model_names = ['Baseline Model', 'CNN Model']\n",
        "\n",
        "# Collect performance metrics for each model\n",
        "performance_data = []\n",
        "\n",
        "for model, name in zip(models, model_names):\n",
        "    accuracy, precision, recall, f1 = evaluate_model(model, X_test, y_test)\n",
        "    performance_data.append([name, accuracy, precision, recall, f1])\n",
        "\n",
        "# Create a DataFrame to display the results\n",
        "performance_df = pd.DataFrame(performance_data, columns=['Model', 'Accuracy', 'Precision', 'Recall', 'F1 Score'])\n",
        "\n",
        "# Print the performance table\n",
        "print(performance_df)\n"
      ],
      "metadata": {
        "colab": {
          "base_uri": "https://localhost:8080/"
        },
        "id": "BLA4WU9Jo_Jt",
        "outputId": "3cf19dd0-a62b-4c2e-80f6-5767b402c49e"
      },
      "id": "BLA4WU9Jo_Jt",
      "execution_count": 36,
      "outputs": [
        {
          "output_type": "stream",
          "name": "stdout",
          "text": [
            "125/125 [==============================] - 1s 2ms/step\n",
            "125/125 [==============================] - 1s 5ms/step\n",
            "            Model  Accuracy  Precision   Recall  F1 Score\n",
            "0  Baseline Model   0.52375   0.523457  0.52375  0.522114\n",
            "1       CNN Model   0.74150   0.741511  0.74150  0.741504\n"
          ]
        }
      ]
    },
    {
      "cell_type": "markdown",
      "source": [
        "### ROC-AUC table"
      ],
      "metadata": {
        "id": "gaRseqkz4lgz"
      },
      "id": "gaRseqkz4lgz"
    },
    {
      "cell_type": "code",
      "source": [
        "# Function to plot ROC curve for a model\n",
        "\n",
        "def plot_roc_curve(model, X_test, y_test, model_name, ax):\n",
        "    if y_test.ndim > 1 and y_test.shape[1] > 1:\n",
        "      y_test = np.argmax(y_test, axis=1)\n",
        "    y_pred_proba = np.argmax(model.predict(X_test), axis=1)\n",
        "    print(y_test[0], y_pred_proba[0])\n",
        "\n",
        "    fpr, tpr, _ = roc_curve(y_test, y_pred_proba)\n",
        "    roc_auc = auc(fpr, tpr)\n",
        "    ax.plot(fpr, tpr, lw=2, label=f'{model_name} (AUC = {roc_auc:.2f})')\n",
        "\n",
        "# Assuming you have 4 models already trained and their names\n",
        "models = [model1, cnn_model2]\n",
        "model_names = ['Baseline Model', 'CNN Model']\n",
        "\n",
        "# Create a plot\n",
        "fig, ax = plt.subplots(figsize=(5, 5))\n",
        "\n",
        "# Plot ROC curves for each model\n",
        "for model, name in zip(models, model_names):\n",
        "    plot_roc_curve(model, X_test, y_test, name, ax)\n",
        "\n",
        "# Plot the diagonal line for reference\n",
        "ax.plot([0, 1], [0, 1], 'k--', lw=2)\n",
        "\n",
        "# Set plot labels and title\n",
        "ax.set_xlim([0.0, 1.0])\n",
        "ax.set_ylim([0.0, 1.05])\n",
        "ax.set_xlabel('False Positive Rate')\n",
        "ax.set_ylabel('True Positive Rate')\n",
        "ax.set_title('Receiver Operating Characteristic (ROC) Curve')\n",
        "ax.legend(loc='lower right')\n",
        "\n",
        "# Show the plot\n",
        "plt.show()\n"
      ],
      "metadata": {
        "colab": {
          "base_uri": "https://localhost:8080/",
          "height": 560
        },
        "id": "dotAHIqD8_pN",
        "outputId": "a20fc548-e2b9-4576-d5e7-c74242700985"
      },
      "id": "dotAHIqD8_pN",
      "execution_count": 38,
      "outputs": [
        {
          "output_type": "stream",
          "name": "stdout",
          "text": [
            "125/125 [==============================] - 0s 2ms/step\n",
            "1 1\n",
            "125/125 [==============================] - 1s 6ms/step\n",
            "1 1\n"
          ]
        },
        {
          "output_type": "display_data",
          "data": {
            "text/plain": [
              "<Figure size 500x500 with 1 Axes>"
            ],
            "image/png": "[encoded data removed]"
          },
          "metadata": {}
        }
      ]
    },
    {
      "cell_type": "markdown",
      "source": [
        "### Plot Word Embeddings\n"
      ],
      "metadata": {
        "id": "So-zn-JriOzk"
      },
      "id": "So-zn-JriOzk"
    },
    {
      "cell_type": "code",
      "source": [
        "# Display the model layers.\n",
        "display(cnn_model2.layers)\n",
        "\n",
        "# Retrieve the embeddings layer, which itself is wrapped in a list.\n",
        "embeddings2 = cnn_model2.layers[0].get_weights()[0]\n",
        "display(embeddings2.shape)"
      ],
      "metadata": {
        "colab": {
          "base_uri": "https://localhost:8080/",
          "height": 200
        },
        "id": "CR9764pIiYUr",
        "outputId": "12736c10-55b9-498b-a6eb-a69b819b0f7a"
      },
      "id": "CR9764pIiYUr",
      "execution_count": 39,
      "outputs": [
        {
          "output_type": "display_data",
          "data": {
            "text/plain": [
              "[<keras.src.layers.core.embedding.Embedding at 0x7832ce6a54b0>,\n",
              " <keras.src.layers.convolutional.conv1d.Conv1D at 0x78334c468310>,\n",
              " <keras.src.layers.pooling.max_pooling1d.MaxPooling1D at 0x7832ce627310>,\n",
              " <keras.src.layers.reshaping.flatten.Flatten at 0x7832ce6a6980>,\n",
              " <keras.src.layers.core.dense.Dense at 0x78336cdef6d0>,\n",
              " <keras.src.layers.regularization.dropout.Dropout at 0x78336d236c20>,\n",
              " <keras.src.layers.core.dense.Dense at 0x78336d269150>,\n",
              " <keras.src.layers.regularization.dropout.Dropout at 0x78336d268820>,\n",
              " <keras.src.layers.core.dense.Dense at 0x7832ce612dd0>]"
            ]
          },
          "metadata": {}
        },
        {
          "output_type": "display_data",
          "data": {
            "text/plain": [
              "(4000, 300)"
            ]
          },
          "metadata": {}
        }
      ]
    },
    {
      "cell_type": "code",
      "source": [
        "reverse_index = dict([(value, key) for (key, value) in word_index.items()])\n",
        "'''\n",
        "reverse_index[1] = '<START>'  # start of input\n",
        "reverse_index[2] = '#'        # out-of-vocabulary (OOV)\n",
        "reverse_index[3] = '<UNUSED>'\n",
        "'''\n",
        "max_id = max(reverse_index.keys())\n",
        "print('Largest ID:', max_id)\n"
      ],
      "metadata": {
        "colab": {
          "base_uri": "https://localhost:8080/"
        },
        "id": "OVVCnU0DlDFL",
        "outputId": "2291e38e-1e00-4718-a9b8-a7fbd2d6982f"
      },
      "id": "OVVCnU0DlDFL",
      "execution_count": 40,
      "outputs": [
        {
          "output_type": "stream",
          "name": "stdout",
          "text": [
            "Largest ID: 34867\n"
          ]
        }
      ]
    },
    {
      "cell_type": "code",
      "source": [
        "import plotly.graph_objs as go\n",
        "\n",
        "def plot_2d_embeddings(embeddings, id_start=1, count=100, title=\"Word Embeddings\", x_label=\"PCA Component 1\", y_label=\"PCA Component 2\"):\n",
        "    # Get 1st and 2nd embedding dims for the desired tokens.\n",
        "    x1 = embeddings[id_start:id_start+count, 0]\n",
        "    x2 = embeddings[id_start:id_start+count, 1]\n",
        "\n",
        "    # Get the corresponding words from the reverse index (for labeling).\n",
        "    tokens = [reverse_index[i] for i in range(id_start, id_start+count)]\n",
        "\n",
        "    color_scale = np.linspace(0, 1, count)\n",
        "\n",
        "    # Plot with the plotly library.\n",
        "    data = go.Scatter(\n",
        "        x=x1,\n",
        "        y=x2,\n",
        "        text=tokens,\n",
        "        mode='markers+text',\n",
        "        textposition='bottom right',\n",
        "        hoverinfo='text',\n",
        "        marker=dict(\n",
        "            size=10,\n",
        "            color=color_scale,\n",
        "            colorscale='Viridis',\n",
        "            showscale=True,\n",
        "        )\n",
        "    )\n",
        "\n",
        "    layout = go.Layout(\n",
        "        title=title,\n",
        "        xaxis=dict(title=x_label),\n",
        "        yaxis=dict(title=y_label),\n",
        "        hovermode='closest'\n",
        "    )\n",
        "\n",
        "    fig = go.Figure(data=[data], layout=layout)\n",
        "    fig.show()\n",
        "\n",
        "plot_2d_embeddings(embeddings2,\n",
        "                   title='Word Embeddings for CNN Model2',\n",
        "                   id_start=1000,\n",
        "                   count=100)\n"
      ],
      "metadata": {
        "colab": {
          "base_uri": "https://localhost:8080/",
          "height": 542
        },
        "id": "piCZvc_kmYi5",
        "outputId": "f84a47a8-0e3b-423f-8814-432cf5fd5c2d"
      },
      "id": "piCZvc_kmYi5",
      "execution_count": 41,
      "outputs": [
        {
          "output_type": "display_data",
          "data": {
            "text/html": [
              "<html>\n",
              "<head><meta charset=\"utf-8\" /></head>\n",
              "<body>\n",
              "    <div>            <script src=\"https://cdnjs.cloudflare.com/ajax/libs/mathjax/2.7.5/MathJax.js?config=TeX-AMS-MML_SVG\"></script><script type=\"text/javascript\">if (window.MathJax && window.MathJax.Hub && window.MathJax.Hub.Config) {window.MathJax.Hub.Config({SVG: {font: \"STIX-Web\"}});}</script>                <script type=\"text/javascript\">window.PlotlyConfig = {MathJaxConfig: 'local'};</script>\n",
              "        <script charset=\"utf-8\" src=\"https://cdn.plot.ly/plotly-2.24.1.min.js\"></script>                <div id=\"406e5425-265d-4c58-a52f-c6faee22bd6d\" class=\"plotly-graph-div\" style=\"height:525px; width:100%;\"></div>            <script type=\"text/javascript\">                                    window.PLOTLYENV=window.PLOTLYENV || {};                                    if (document.getElementById(\"406e5425-265d-4c58-a52f-c6faee22bd6d\")) {                    Plotly.newPlot(                        \"406e5425-265d-4c58-a52f-c6faee22bd6d\",                        [{\"hoverinfo\":\"text\",\"marker\":{\"color\":[0.0,0.010101010101010102,0.020202020202020204,0.030303030303030304,0.04040404040404041,0.05050505050505051,0.06060606060606061,0.07070707070707072,0.08080808080808081,0.09090909090909091,0.10101010101010102,0.11111111111111112,0.12121212121212122,0.13131313131313133,0.14141414141414144,0.15151515151515152,0.16161616161616163,0.17171717171717174,0.18181818181818182,0.19191919191919193,0.20202020202020204,0.21212121212121213,0.22222222222222224,0.23232323232323235,0.24242424242424243,0.25252525252525254,0.26262626262626265,0.27272727272727276,0.2828282828282829,0.29292929292929293,0.30303030303030304,0.31313131313131315,0.32323232323232326,0.33333333333333337,0.3434343434343435,0.3535353535353536,0.36363636363636365,0.37373737373737376,0.38383838383838387,0.393939393939394,0.4040404040404041,0.4141414141414142,0.42424242424242425,0.43434343434343436,0.4444444444444445,0.4545454545454546,0.4646464646464647,0.4747474747474748,0.48484848484848486,0.494949494949495,0.5050505050505051,0.5151515151515152,0.5252525252525253,0.5353535353535354,0.5454545454545455,0.5555555555555556,0.5656565656565657,0.5757575757575758,0.5858585858585859,0.595959595959596,0.6060606060606061,0.6161616161616162,0.6262626262626263,0.6363636363636365,0.6464646464646465,0.6565656565656566,0.6666666666666667,0.6767676767676768,0.686868686868687,0.696969696969697,0.7070707070707072,0.7171717171717172,0.7272727272727273,0.7373737373737375,0.7474747474747475,0.7575757575757577,0.7676767676767677,0.7777777777777778,0.787878787878788,0.797979797979798,0.8080808080808082,0.8181818181818182,0.8282828282828284,0.8383838383838385,0.8484848484848485,0.8585858585858587,0.8686868686868687,0.8787878787878789,0.888888888888889,0.8989898989898991,0.9090909090909092,0.9191919191919192,0.9292929292929294,0.9393939393939394,0.9494949494949496,0.9595959595959597,0.9696969696969697,0.9797979797979799,0.98989898989899,1.0],\"colorscale\":[[0.0,\"#440154\"],[0.1111111111111111,\"#482878\"],[0.2222222222222222,\"#3e4989\"],[0.3333333333333333,\"#31688e\"],[0.4444444444444444,\"#26828e\"],[0.5555555555555556,\"#1f9e89\"],[0.6666666666666666,\"#35b779\"],[0.7777777777777778,\"#6ece58\"],[0.8888888888888888,\"#b5de2b\"],[1.0,\"#fde725\"]],\"showscale\":true,\"size\":10},\"mode\":\"markers+text\",\"text\":[\"bro\",\"ran\",\"posted\",\"usually\",\"hrs\",\"teeth\",\"sexy\",\"hmmm\",\"blood\",\"min\",\"pass\",\"yum\",\"during\",\"classes\",\"guitar\",\"profile\",\"puppy\",\"camp\",\"ended\",\"fever\",\"chicken\",\"de\",\"others\",\"four\",\"ouch\",\"math\",\"shoot\",\"indeed\",\"argh\",\"whos\",\"myspace\",\"huh\",\"random\",\"chillin\",\"twittering\",\"nobody\",\"film\",\"nearly\",\"drunk\",\"hun\",\"dancing\",\"bloody\",\"bless\",\"paid\",\"middle\",\"project\",\"losing\",\"mother\",\"tom\",\"enjoyed\",\"practice\",\"available\",\"son\",\"system\",\"knows\",\"download\",\"suppose\",\"dogs\",\"traffic\",\"light\",\"folks\",\"normal\",\"daddy\",\"moms\",\"low\",\"gosh\",\"babe\",\"ages\",\"books\",\"re\",\"serious\",\"double\",\"twilight\",\"everybody\",\"sold\",\"australia\",\"dunno\",\"checked\",\"na\",\"laying\",\"minute\",\"garden\",\"become\",\"training\",\"case\",\"taylor\",\"window\",\"takes\",\"matter\",\"sing\",\"group\",\"disappointed\",\"cousin\",\"note\",\"shot\",\"fact\",\"jk\",\"art\",\"bummed\",\"john\"],\"textposition\":\"bottom right\",\"x\":[-0.10302734375,0.1474609375,-0.1630859375,0.06982421875,-0.2236328125,0.054931640625,0.0478515625,-0.00921630859375,-0.330078125,-0.052978515625,0.23828125,0.255859375,0.02587890625,0.07666015625,0.2001953125,0.01275634765625,0.07177734375,0.01611328125,-0.045166015625,0.3125,-0.134765625,-0.189453125,0.14453125,0.0859375,0.0230712890625,0.267578125,0.1484375,0.0830078125,0.11962890625,-0.00701904296875,-0.00311279296875,0.2734375,-0.06396484375,-0.12890625,0.162109375,0.1708984375,-0.003814697265625,0.1611328125,0.08740234375,0.0108642578125,0.171875,-0.00823974609375,0.185546875,0.038818359375,0.251953125,-0.01806640625,0.095703125,-0.00921630859375,-0.0177001953125,-0.0810546875,0.001800537109375,-0.06396484375,0.10791015625,-0.0020294189453125,0.0654296875,0.171875,0.1806640625,-0.0205078125,0.36328125,0.1298828125,0.27734375,-0.158203125,-0.00909423828125,0.0223388671875,0.19921875,-0.0213623046875,0.154296875,-0.0255126953125,0.09765625,-0.044677734375,0.02587890625,-0.11572265625,0.169921875,0.103515625,0.2255859375,-0.19921875,0.0693359375,-0.41015625,-0.0849609375,-0.00299072265625,0.0244140625,0.162109375,-0.1416015625,-0.1611328125,0.057861328125,-0.169921875,0.0986328125,0.12451171875,0.10791015625,0.115234375,-0.02197265625,0.027099609375,-0.0264892578125,-0.08740234375,0.11181640625,0.1005859375,-0.150390625,0.0233154296875,0.32421875,-0.25390625],\"y\":[0.038818359375,0.1953125,0.048828125,-0.0126953125,0.04248046875,0.07861328125,-0.267578125,-0.0908203125,0.1376953125,0.287109375,-0.123046875,-0.0546875,0.1748046875,0.076171875,-0.3203125,0.375,0.1142578125,0.2314453125,0.03955078125,0.06884765625,-0.0240478515625,0.181640625,0.06640625,-0.07275390625,0.053955078125,0.0137939453125,0.062255859375,0.032470703125,-0.173828125,0.2138671875,-0.291015625,0.1416015625,-0.05029296875,0.28125,0.07470703125,-0.1669921875,-0.0191650390625,-0.197265625,-0.146484375,0.451171875,-0.2255859375,-0.08056640625,0.2060546875,0.10498046875,0.072265625,0.008544921875,0.11279296875,-0.2119140625,0.2099609375,0.10400390625,0.08984375,-0.220703125,-0.030029296875,-0.1552734375,-0.146484375,-0.23828125,-0.043212890625,-0.012451171875,0.03662109375,0.173828125,0.035400390625,0.2216796875,-0.10595703125,-0.0322265625,-0.08056640625,-0.045166015625,-0.2431640625,-0.016845703125,0.2294921875,0.06298828125,0.0732421875,-0.185546875,0.0390625,-0.126953125,-0.07080078125,-0.279296875,-0.150390625,-0.06396484375,0.23046875,0.0849609375,0.1767578125,0.27734375,0.0673828125,0.22265625,0.0771484375,0.048583984375,0.08642578125,0.0908203125,0.0166015625,-0.1748046875,0.01519775390625,0.1884765625,-0.154296875,0.25390625,0.189453125,0.10009765625,0.06884765625,-0.06396484375,0.16796875,0.1474609375],\"type\":\"scatter\"}],                        {\"hovermode\":\"closest\",\"title\":{\"text\":\"Word Embeddings for CNN Model2\"},\"xaxis\":{\"title\":{\"text\":\"PCA Component 1\"}},\"yaxis\":{\"title\":{\"text\":\"PCA Component 2\"}},\"template\":{\"data\":{\"histogram2dcontour\":[{\"type\":\"histogram2dcontour\",\"colorbar\":{\"outlinewidth\":0,\"ticks\":\"\"},\"colorscale\":[[0.0,\"#0d0887\"],[0.1111111111111111,\"#46039f\"],[0.2222222222222222,\"#7201a8\"],[0.3333333333333333,\"#9c179e\"],[0.4444444444444444,\"#bd3786\"],[0.5555555555555556,\"#d8576b\"],[0.6666666666666666,\"#ed7953\"],[0.7777777777777778,\"#fb9f3a\"],[0.8888888888888888,\"#fdca26\"],[1.0,\"#f0f921\"]]}],\"choropleth\":[{\"type\":\"choropleth\",\"colorbar\":{\"outlinewidth\":0,\"ticks\":\"\"}}],\"histogram2d\":[{\"type\":\"histogram2d\",\"colorbar\":{\"outlinewidth\":0,\"ticks\":\"\"},\"colorscale\":[[0.0,\"#0d0887\"],[0.1111111111111111,\"#46039f\"],[0.2222222222222222,\"#7201a8\"],[0.3333333333333333,\"#9c179e\"],[0.4444444444444444,\"#bd3786\"],[0.5555555555555556,\"#d8576b\"],[0.6666666666666666,\"#ed7953\"],[0.7777777777777778,\"#fb9f3a\"],[0.8888888888888888,\"#fdca26\"],[1.0,\"#f0f921\"]]}],\"heatmap\":[{\"type\":\"heatmap\",\"colorbar\":{\"outlinewidth\":0,\"ticks\":\"\"},\"colorscale\":[[0.0,\"#0d0887\"],[0.1111111111111111,\"#46039f\"],[0.2222222222222222,\"#7201a8\"],[0.3333333333333333,\"#9c179e\"],[0.4444444444444444,\"#bd3786\"],[0.5555555555555556,\"#d8576b\"],[0.6666666666666666,\"#ed7953\"],[0.7777777777777778,\"#fb9f3a\"],[0.8888888888888888,\"#fdca26\"],[1.0,\"#f0f921\"]]}],\"heatmapgl\":[{\"type\":\"heatmapgl\",\"colorbar\":{\"outlinewidth\":0,\"ticks\":\"\"},\"colorscale\":[[0.0,\"#0d0887\"],[0.1111111111111111,\"#46039f\"],[0.2222222222222222,\"#7201a8\"],[0.3333333333333333,\"#9c179e\"],[0.4444444444444444,\"#bd3786\"],[0.5555555555555556,\"#d8576b\"],[0.6666666666666666,\"#ed7953\"],[0.7777777777777778,\"#fb9f3a\"],[0.8888888888888888,\"#fdca26\"],[1.0,\"#f0f921\"]]}],\"contourcarpet\":[{\"type\":\"contourcarpet\",\"colorbar\":{\"outlinewidth\":0,\"ticks\":\"\"}}],\"contour\":[{\"type\":\"contour\",\"colorbar\":{\"outlinewidth\":0,\"ticks\":\"\"},\"colorscale\":[[0.0,\"#0d0887\"],[0.1111111111111111,\"#46039f\"],[0.2222222222222222,\"#7201a8\"],[0.3333333333333333,\"#9c179e\"],[0.4444444444444444,\"#bd3786\"],[0.5555555555555556,\"#d8576b\"],[0.6666666666666666,\"#ed7953\"],[0.7777777777777778,\"#fb9f3a\"],[0.8888888888888888,\"#fdca26\"],[1.0,\"#f0f921\"]]}],\"surface\":[{\"type\":\"surface\",\"colorbar\":{\"outlinewidth\":0,\"ticks\":\"\"},\"colorscale\":[[0.0,\"#0d0887\"],[0.1111111111111111,\"#46039f\"],[0.2222222222222222,\"#7201a8\"],[0.3333333333333333,\"#9c179e\"],[0.4444444444444444,\"#bd3786\"],[0.5555555555555556,\"#d8576b\"],[0.6666666666666666,\"#ed7953\"],[0.7777777777777778,\"#fb9f3a\"],[0.8888888888888888,\"#fdca26\"],[1.0,\"#f0f921\"]]}],\"mesh3d\":[{\"type\":\"mesh3d\",\"colorbar\":{\"outlinewidth\":0,\"ticks\":\"\"}}],\"scatter\":[{\"fillpattern\":{\"fillmode\":\"overlay\",\"size\":10,\"solidity\":0.2},\"type\":\"scatter\"}],\"parcoords\":[{\"type\":\"parcoords\",\"line\":{\"colorbar\":{\"outlinewidth\":0,\"ticks\":\"\"}}}],\"scatterpolargl\":[{\"type\":\"scatterpolargl\",\"marker\":{\"colorbar\":{\"outlinewidth\":0,\"ticks\":\"\"}}}],\"bar\":[{\"error_x\":{\"color\":\"#2a3f5f\"},\"error_y\":{\"color\":\"#2a3f5f\"},\"marker\":{\"line\":{\"color\":\"#E5ECF6\",\"width\":0.5},\"pattern\":{\"fillmode\":\"overlay\",\"size\":10,\"solidity\":0.2}},\"type\":\"bar\"}],\"scattergeo\":[{\"type\":\"scattergeo\",\"marker\":{\"colorbar\":{\"outlinewidth\":0,\"ticks\":\"\"}}}],\"scatterpolar\":[{\"type\":\"scatterpolar\",\"marker\":{\"colorbar\":{\"outlinewidth\":0,\"ticks\":\"\"}}}],\"histogram\":[{\"marker\":{\"pattern\":{\"fillmode\":\"overlay\",\"size\":10,\"solidity\":0.2}},\"type\":\"histogram\"}],\"scattergl\":[{\"type\":\"scattergl\",\"marker\":{\"colorbar\":{\"outlinewidth\":0,\"ticks\":\"\"}}}],\"scatter3d\":[{\"type\":\"scatter3d\",\"line\":{\"colorbar\":{\"outlinewidth\":0,\"ticks\":\"\"}},\"marker\":{\"colorbar\":{\"outlinewidth\":0,\"ticks\":\"\"}}}],\"scattermapbox\":[{\"type\":\"scattermapbox\",\"marker\":{\"colorbar\":{\"outlinewidth\":0,\"ticks\":\"\"}}}],\"scatterternary\":[{\"type\":\"scatterternary\",\"marker\":{\"colorbar\":{\"outlinewidth\":0,\"ticks\":\"\"}}}],\"scattercarpet\":[{\"type\":\"scattercarpet\",\"marker\":{\"colorbar\":{\"outlinewidth\":0,\"ticks\":\"\"}}}],\"carpet\":[{\"aaxis\":{\"endlinecolor\":\"#2a3f5f\",\"gridcolor\":\"white\",\"linecolor\":\"white\",\"minorgridcolor\":\"white\",\"startlinecolor\":\"#2a3f5f\"},\"baxis\":{\"endlinecolor\":\"#2a3f5f\",\"gridcolor\":\"white\",\"linecolor\":\"white\",\"minorgridcolor\":\"white\",\"startlinecolor\":\"#2a3f5f\"},\"type\":\"carpet\"}],\"table\":[{\"cells\":{\"fill\":{\"color\":\"#EBF0F8\"},\"line\":{\"color\":\"white\"}},\"header\":{\"fill\":{\"color\":\"#C8D4E3\"},\"line\":{\"color\":\"white\"}},\"type\":\"table\"}],\"barpolar\":[{\"marker\":{\"line\":{\"color\":\"#E5ECF6\",\"width\":0.5},\"pattern\":{\"fillmode\":\"overlay\",\"size\":10,\"solidity\":0.2}},\"type\":\"barpolar\"}],\"pie\":[{\"automargin\":true,\"type\":\"pie\"}]},\"layout\":{\"autotypenumbers\":\"strict\",\"colorway\":[\"#636efa\",\"#EF553B\",\"#00cc96\",\"#ab63fa\",\"#FFA15A\",\"#19d3f3\",\"#FF6692\",\"#B6E880\",\"#FF97FF\",\"#FECB52\"],\"font\":{\"color\":\"#2a3f5f\"},\"hovermode\":\"closest\",\"hoverlabel\":{\"align\":\"left\"},\"paper_bgcolor\":\"white\",\"plot_bgcolor\":\"#E5ECF6\",\"polar\":{\"bgcolor\":\"#E5ECF6\",\"angularaxis\":{\"gridcolor\":\"white\",\"linecolor\":\"white\",\"ticks\":\"\"},\"radialaxis\":{\"gridcolor\":\"white\",\"linecolor\":\"white\",\"ticks\":\"\"}},\"ternary\":{\"bgcolor\":\"#E5ECF6\",\"aaxis\":{\"gridcolor\":\"white\",\"linecolor\":\"white\",\"ticks\":\"\"},\"baxis\":{\"gridcolor\":\"white\",\"linecolor\":\"white\",\"ticks\":\"\"},\"caxis\":{\"gridcolor\":\"white\",\"linecolor\":\"white\",\"ticks\":\"\"}},\"coloraxis\":{\"colorbar\":{\"outlinewidth\":0,\"ticks\":\"\"}},\"colorscale\":{\"sequential\":[[0.0,\"#0d0887\"],[0.1111111111111111,\"#46039f\"],[0.2222222222222222,\"#7201a8\"],[0.3333333333333333,\"#9c179e\"],[0.4444444444444444,\"#bd3786\"],[0.5555555555555556,\"#d8576b\"],[0.6666666666666666,\"#ed7953\"],[0.7777777777777778,\"#fb9f3a\"],[0.8888888888888888,\"#fdca26\"],[1.0,\"#f0f921\"]],\"sequentialminus\":[[0.0,\"#0d0887\"],[0.1111111111111111,\"#46039f\"],[0.2222222222222222,\"#7201a8\"],[0.3333333333333333,\"#9c179e\"],[0.4444444444444444,\"#bd3786\"],[0.5555555555555556,\"#d8576b\"],[0.6666666666666666,\"#ed7953\"],[0.7777777777777778,\"#fb9f3a\"],[0.8888888888888888,\"#fdca26\"],[1.0,\"#f0f921\"]],\"diverging\":[[0,\"#8e0152\"],[0.1,\"#c51b7d\"],[0.2,\"#de77ae\"],[0.3,\"#f1b6da\"],[0.4,\"#fde0ef\"],[0.5,\"#f7f7f7\"],[0.6,\"#e6f5d0\"],[0.7,\"#b8e186\"],[0.8,\"#7fbc41\"],[0.9,\"#4d9221\"],[1,\"#276419\"]]},\"xaxis\":{\"gridcolor\":\"white\",\"linecolor\":\"white\",\"ticks\":\"\",\"title\":{\"standoff\":15},\"zerolinecolor\":\"white\",\"automargin\":true,\"zerolinewidth\":2},\"yaxis\":{\"gridcolor\":\"white\",\"linecolor\":\"white\",\"ticks\":\"\",\"title\":{\"standoff\":15},\"zerolinecolor\":\"white\",\"automargin\":true,\"zerolinewidth\":2},\"scene\":{\"xaxis\":{\"backgroundcolor\":\"#E5ECF6\",\"gridcolor\":\"white\",\"linecolor\":\"white\",\"showbackground\":true,\"ticks\":\"\",\"zerolinecolor\":\"white\",\"gridwidth\":2},\"yaxis\":{\"backgroundcolor\":\"#E5ECF6\",\"gridcolor\":\"white\",\"linecolor\":\"white\",\"showbackground\":true,\"ticks\":\"\",\"zerolinecolor\":\"white\",\"gridwidth\":2},\"zaxis\":{\"backgroundcolor\":\"#E5ECF6\",\"gridcolor\":\"white\",\"linecolor\":\"white\",\"showbackground\":true,\"ticks\":\"\",\"zerolinecolor\":\"white\",\"gridwidth\":2}},\"shapedefaults\":{\"line\":{\"color\":\"#2a3f5f\"}},\"annotationdefaults\":{\"arrowcolor\":\"#2a3f5f\",\"arrowhead\":0,\"arrowwidth\":1},\"geo\":{\"bgcolor\":\"white\",\"landcolor\":\"#E5ECF6\",\"subunitcolor\":\"white\",\"showland\":true,\"showlakes\":true,\"lakecolor\":\"white\"},\"title\":{\"x\":0.05},\"mapbox\":{\"style\":\"light\"}}}},                        {\"responsive\": true}                    ).then(function(){\n",
              "                            \n",
              "var gd = document.getElementById('406e5425-265d-4c58-a52f-c6faee22bd6d');\n",
              "var x = new MutationObserver(function (mutations, observer) {{\n",
              "        var display = window.getComputedStyle(gd).display;\n",
              "        if (!display || display === 'none') {{\n",
              "            console.log([gd, 'removed!']);\n",
              "            Plotly.purge(gd);\n",
              "            observer.disconnect();\n",
              "        }}\n",
              "}});\n",
              "\n",
              "// Listen for the removal of the full notebook cells\n",
              "var notebookContainer = gd.closest('#notebook-container');\n",
              "if (notebookContainer) {{\n",
              "    x.observe(notebookContainer, {childList: true});\n",
              "}}\n",
              "\n",
              "// Listen for the clearing of the current output cell\n",
              "var outputEl = gd.closest('.output');\n",
              "if (outputEl) {{\n",
              "    x.observe(outputEl, {childList: true});\n",
              "}}\n",
              "\n",
              "                        })                };                            </script>        </div>\n",
              "</body>\n",
              "</html>"
            ]
          },
          "metadata": {}
        }
      ]
    },
    {
      "cell_type": "markdown",
      "source": [
        "### Confusion Matrix"
      ],
      "metadata": {
        "id": "-Gcofq3CjHrw"
      },
      "id": "-Gcofq3CjHrw"
    },
    {
      "cell_type": "code",
      "source": [
        "\n",
        "# Create Confusion Matrix\n",
        "def plot_confusion_matrix(y_true, y_pred, title='Confusion Matrix'):\n",
        "    y_true = y_test.argmax(axis=1)\n",
        "\n",
        "    cf = tf.math.confusion_matrix(y_true, y_pred)\n",
        "    cf_display = ConfusionMatrixDisplay(cf.numpy())\n",
        "    cf_display.plot()\n",
        "    plt.title(title)\n",
        "    plt.xticks(rotation = 90)\n",
        "    plt.show()\n"
      ],
      "metadata": {
        "id": "OPSRNcWRjMbq"
      },
      "id": "OPSRNcWRjMbq",
      "execution_count": 50,
      "outputs": []
    },
    {
      "cell_type": "code",
      "source": [
        "y_pred_baseline = model1.predict(X_test).argmax(axis=1)\n",
        "y_pred_cnn = cnn_model2.predict(X_test).argmax(axis=1)\n",
        "\n",
        "plot_confusion_matrix(y_test, y_pred_baseline, title='Confusion Matrix for Baseline Model')\n",
        "plot_confusion_matrix(y_test, y_pred_cnn, title='Confusion Matrix for Improved CNN Model')"
      ],
      "metadata": {
        "colab": {
          "base_uri": "https://localhost:8080/",
          "height": 954
        },
        "id": "XjXGMEX8jqtH",
        "outputId": "fd812fa7-a8d8-4f2d-c0ea-f8b99d99a96e"
      },
      "id": "XjXGMEX8jqtH",
      "execution_count": 51,
      "outputs": [
        {
          "output_type": "stream",
          "name": "stdout",
          "text": [
            "125/125 [==============================] - 0s 1ms/step\n",
            "125/125 [==============================] - 0s 3ms/step\n"
          ]
        },
        {
          "output_type": "display_data",
          "data": {
            "text/plain": [
              "<Figure size 640x480 with 2 Axes>"
            ],
            "image/png": "[encoded data removed]"
          },
          "metadata": {}
        },
        {
          "output_type": "display_data",
          "data": {
            "text/plain": [
              "<Figure size 640x480 with 2 Axes>"
            ],
            "image/png": "[encoded data removed]"
          },
          "metadata": {}
        }
      ]
    }
  ],
  "metadata": {
    "colab": {
      "provenance": [],
      "gpuType": "T4",
      "collapsed_sections": [
        "vAXKJ3Mrk3PJ",
        "OqIxpMgLIDqQ",
        "5CeFIspWlYpA",
        "5b0fad1c-8c9a-4089-8d8e-1bf80dce313b",
        "yXvoGRJflv4H",
        "CYZrVsXPbuWi",
        "fIsZzu_co8vp",
        "gaRseqkz4lgz",
        "So-zn-JriOzk"
      ],
      "machine_shape": "hm"
    },
    "kernelspec": {
      "display_name": "Python 3",
      "name": "python3"
    },
    "language_info": {
      "codemirror_mode": {
        "name": "ipython",
        "version": 3
      },
      "file_extension": ".py",
      "mimetype": "text/x-python",
      "name": "python",
      "nbconvert_exporter": "python",
      "pygments_lexer": "ipython3",
      "version": "3.9.6"
    },
    "accelerator": "GPU"
  },
  "nbformat": 4,
  "nbformat_minor": 5
}